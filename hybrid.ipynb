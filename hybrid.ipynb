{
 "cells": [
  {
   "cell_type": "code",
   "execution_count": 1,
   "id": "1c96030f3be3e4a8",
   "metadata": {
    "ExecuteTime": {
     "end_time": "2025-06-19T00:52:59.360703Z",
     "start_time": "2025-06-19T00:52:59.356446Z"
    }
   },
   "outputs": [],
   "source": [
    "# =========================================================\n",
    "# SEÇÃO 1: IMPORTAÇÕES E SETUP GERAL\n",
    "# ========================================================="
   ]
  },
  {
   "cell_type": "code",
   "execution_count": 2,
   "id": "a9716172789275c2",
   "metadata": {
    "ExecuteTime": {
     "end_time": "2025-06-19T00:52:59.414429Z",
     "start_time": "2025-06-19T00:52:59.376419Z"
    }
   },
   "outputs": [],
   "source": [
    "import os\n",
    "import pandas as pd\n",
    "import numpy as np\n",
    "import random\n",
    "import matplotlib.pyplot as plt\n",
    "import seaborn as sns\n",
    "import warnings\n",
    "import itertools\n",
    "\n",
    "# Libs de Modelagem e Estatística\n",
    "from statsmodels.tsa.arima.model import ARIMA\n",
    "from statsmodels.datasets import get_rdataset\n",
    "from dieboldmariano import dm_test\n",
    "import pmdarima as pm\n",
    "from neuralforecast import NeuralForecast\n",
    "from neuralforecast.models import NBEATS, MLP, LSTM, Autoformer, NHITS\n",
    "\n",
    "# Libs de Avaliação\n",
    "from sklearn.metrics import mean_squared_error, mean_absolute_error\n",
    "from tqdm import tqdm\n",
    "from IPython.display import display, Markdown\n",
    "\n",
    "warnings.filterwarnings(\"ignore\")"
   ]
  },
  {
   "cell_type": "code",
   "execution_count": 3,
   "id": "7acde5f0e5c4b395",
   "metadata": {},
   "outputs": [],
   "source": [
    "# =========================================================\n",
    "# SEÇÃO 2: FUNÇÕES AUXILIARES (SETUP E PROCESSAMENTO)\n",
    "# ========================================================="
   ]
  },
  {
   "cell_type": "code",
   "execution_count": 4,
   "id": "2ff04ae19676ec70",
   "metadata": {},
   "outputs": [],
   "source": [
    "def definir_seed(seed_value=42):\n",
    "    np.random.seed(seed_value)\n",
    "    random.seed(seed_value)\n",
    "    os.environ['PYTHONHASHSEED'] = str(seed_value)"
   ]
  },
  {
   "cell_type": "code",
   "execution_count": 5,
   "id": "68444ac84157ee18",
   "metadata": {},
   "outputs": [],
   "source": [
    "def salvar_dataset(serie, dataset_name):\n",
    "    dir_path = \"./data/bronze\"\n",
    "    os.makedirs(dir_path, exist_ok=True)\n",
    "    file_path = os.path.join(dir_path, f\"{dataset_name.lower()}.csv\")\n",
    "    df = pd.DataFrame({\"date\": serie.index, \"value\": serie.values})\n",
    "    df.to_csv(file_path, index=False)\n",
    "    print(f\"-> Cópia do dataset '{dataset_name}' salva em: {file_path}\")\n",
    "\n",
    "def carregar_serie(nome):\n",
    "    print(f\"Buscando dados de '{nome}' via statsmodels...\")\n",
    "    nome_base = nome.lower()\n",
    "\n",
    "    if nome_base == \"airpassengers\":\n",
    "        df = get_rdataset(\"AirPassengers\", package=\"datasets\").data\n",
    "        serie = pd.Series(df['value'].values, index=pd.date_range(start=\"1949-01-01\", periods=len(df), freq=\"MS\"),\n",
    "                          name=\"AirPassengers\")\n",
    "    elif nome_base == \"lynx\":\n",
    "        df = get_rdataset(\"lynx\", package=\"datasets\").data\n",
    "        serie = pd.Series(df['value'].values, index=pd.date_range(start=\"1821\", periods=len(df), freq=\"A\"), name=\"Lynx\")\n",
    "    elif nome_base == \"co2\":\n",
    "        df = get_rdataset(\"CO2\", package=\"datasets\").data\n",
    "        df = df.ffill()\n",
    "        serie = pd.Series(df['value'].values, index=pd.date_range(start=\"1958-03-29\", periods=len(df), freq=\"MS\"),\n",
    "                          name=\"CO2\")\n",
    "    elif nome_base == \"sunspots\":\n",
    "        df = get_rdataset(\"sunspots\", package=\"datasets\").data\n",
    "        serie = pd.Series(df['value'].values, index=pd.date_range(start=\"1749-01-01\", periods=len(df), freq=\"MS\"),\n",
    "                          name=\"Sunspots\")\n",
    "    elif nome_base == \"austres\":\n",
    "        df = get_rdataset(\"austres\", package=\"datasets\").data\n",
    "        serie = pd.Series(df['value'].values, index=pd.date_range(start=\"1971-03-01\", periods=len(df), freq=\"QS-MAR\"),\n",
    "                          name=\"AustralianResidents\")\n",
    "    elif nome_base == \"nottem\":\n",
    "        df = get_rdataset(\"nottem\", package=\"datasets\").data\n",
    "        serie = pd.Series(df['value'].values, index=pd.date_range(start=\"1920-01-01\", periods=len(df), freq=\"MS\"),\n",
    "                          name=\"Nottingham\")\n",
    "    else:\n",
    "        raise ValueError(f\"Lógica de download para a série '{nome}' não implementada.\")\n",
    "\n",
    "    salvar_dataset(serie, nome)\n",
    "    return serie"
   ]
  },
  {
   "cell_type": "code",
   "execution_count": 6,
   "id": "a220cdfd",
   "metadata": {},
   "outputs": [],
   "source": [
    "def dividir_serie_temporal(serie, percentual_treino=0.85):\n",
    "    tamanho_total = len(serie)\n",
    "    ponto_corte_treino = int(tamanho_total * percentual_treino)\n",
    "    treino = serie.iloc[:ponto_corte_treino]\n",
    "    teste = serie.iloc[ponto_corte_treino:]\n",
    "    return treino, teste\n",
    "\n",
    "def preparar_dados_para_neuralforecast(serie, nome_serie):\n",
    "    df = serie.reset_index()\n",
    "    df.columns = ['ds', 'y']\n",
    "    df['unique_id'] = nome_serie\n",
    "    return df"
   ]
  },
  {
   "cell_type": "code",
   "execution_count": 7,
   "id": "767138d2",
   "metadata": {},
   "outputs": [],
   "source": [
    "# =========================================================\n",
    "# SEÇÃO 3: FUNÇÕES PARA CÁLCULO DE MÉTRICAS E MODELAGEM\n",
    "# ========================================================="
   ]
  },
  {
   "cell_type": "code",
   "execution_count": 8,
   "id": "c38b31116385f0df",
   "metadata": {},
   "outputs": [],
   "source": [
    "def calcular_metricas(y_true, y_pred, y_train):\n",
    "    rmse = np.sqrt(mean_squared_error(y_true, y_pred))\n",
    "    mape = np.mean(np.abs((y_true - y_pred) / y_true)) * 100 if np.all(y_true != 0) else np.inf\n",
    "    n = len(y_train)\n",
    "    d = np.sum(np.abs(y_train[1:] - y_train[:-1])) / (n - 1) if n > 1 else np.nan\n",
    "    mase = np.mean(np.abs(y_true - y_pred)) / d if d is not np.nan and d > 0 else np.inf\n",
    "    return {'RMSE': rmse, 'MAPE(%)': mape, 'MASE': mase}"
   ]
  },
  {
   "cell_type": "code",
   "execution_count": 9,
   "id": "cae6b18a",
   "metadata": {},
   "outputs": [],
   "source": [
    "# =========================================================\n",
    "# SEÇÃO 4: PIPELINE AVANÇADO PARA O ARIMA\n",
    "# =========================================================\n"
   ]
  },
  {
   "cell_type": "code",
   "execution_count": 10,
   "id": "dcc9d2b54e19eb7b",
   "metadata": {},
   "outputs": [],
   "source": [
    "def encontrar_melhor_arima_auto(treino_log, freq):\n",
    "    \"\"\"Usa auto_arima para encontrar a melhor ordem ARIMA, incluindo sazonalidade.\"\"\"\n",
    "    print(\"Buscando melhor ordem ARIMA com auto_arima...\")\n",
    "    m = 12 if freq.startswith('M') else (4 if freq.startswith('Q') else 1)\n",
    "    auto_arima_model = pm.auto_arima(treino_log, m=m, seasonal=True, trace=False, error_action='ignore', suppress_warnings=True, stepwise=True)\n",
    "    print(f\"Melhor ordem encontrada: {auto_arima_model.order} Sazonal: {auto_arima_model.seasonal_order}\")\n",
    "    return auto_arima_model.order, auto_arima_model.seasonal_order"
   ]
  },
  {
   "cell_type": "code",
   "execution_count": 11,
   "id": "189a54af",
   "metadata": {},
   "outputs": [],
   "source": [
    "# =========================================================\n",
    "# SEÇÃO 5: PIPELINE DE EXPERIMENTO COMPLETO E AVANÇADO\n",
    "# ========================================================="
   ]
  },
  {
   "cell_type": "code",
   "execution_count": 12,
   "id": "8f7c9b2a",
   "metadata": {},
   "outputs": [],
   "source": [
    "def executar_experimento(nome_da_serie, horizonte):\n",
    "    \"\"\"Executa o pipeline completo com as correções de estabilidade.\"\"\"\n",
    "    try:\n",
    "        SEED = 42; definir_seed(SEED)\n",
    "        MAX_INPUT_SIZE = 24; MAX_STEPS_NEURAL = 150\n",
    "        \n",
    "        serie_original = carregar_serie(nome_da_serie)\n",
    "        \n",
    "        percentual_treino = 1 - (horizonte / len(serie_original))\n",
    "        if percentual_treino < 0.5: # Garante pelo menos 50% de dados para treino\n",
    "             print(f\"AVISO: Horizonte {horizonte} é muito grande para a série '{nome_da_serie}'. Pulando.\")\n",
    "             return None\n",
    "        \n",
    "        treino_orig, teste_orig = dividir_serie_temporal(serie_original, percentual_treino=percentual_treino)\n",
    "        serie_log = np.log(serie_original)\n",
    "        treino_log, _ = dividir_serie_temporal(serie_log, percentual_treino=percentual_treino)\n",
    "        \n",
    "        freq = serie_original.index.freqstr or pd.infer_freq(serie_original.index)\n",
    "        if freq is None: return None\n",
    "\n",
    "        previsoes_teste = {'y_true': teste_orig.values}\n",
    "        \n",
    "        # --- 1. Modelo ARIMA ---\n",
    "        modelo_arima = None\n",
    "        try:\n",
    "            print(\"Processando: ARIMA\")\n",
    "            ordem, ordem_sazonal = encontrar_melhor_arima_auto(treino_log, freq)\n",
    "            modelo_arima = ARIMA(treino_log.asfreq(freq), order=ordem, seasonal_order=ordem_sazonal).fit()\n",
    "            # CORREÇÃO: Usando .forecast() para previsão out-of-sample\n",
    "            preds_log_teste_arima = modelo_arima.forecast(steps=horizonte)\n",
    "            previsoes_teste['ARIMA'] = np.exp(preds_log_teste_arima).values\n",
    "        except Exception as e: print(f\"AVISO: ARIMA falhou: {e}\")\n",
    "\n",
    "        # --- 2. Modelos Neurais Puros ---\n",
    "        df_treino_log_nf = preparar_dados_para_neuralforecast(treino_log, nome_da_serie)\n",
    "        modelos_para_testar = {'N-BEATS': NBEATS, 'MLP': MLP, 'LSTM': LSTM, 'Autoformer': Autoformer, 'NHITS': NHITS}\n",
    "        \n",
    "        for nome_modelo, classe_modelo in modelos_para_testar.items():\n",
    "            try:\n",
    "                print(f\"Processando: {nome_modelo}\")\n",
    "                # CORREÇÃO: Removida a configuração de arquitetura customizada para N-BEATS/NHITS\n",
    "                modelo_neural = [classe_modelo(input_size=min(2 * horizonte, MAX_INPUT_SIZE), h=horizonte, max_steps=MAX_STEPS_NEURAL, scaler_type='standard', random_seed=SEED)]\n",
    "                nf = NeuralForecast(models=modelo_neural, freq=freq)\n",
    "                nf.fit(df=df_treino_log_nf, verbose=False)\n",
    "                previsoes_teste[nome_modelo] = np.exp(nf.predict()[classe_modelo.__name__].values)\n",
    "            except Exception as e: print(f\"AVISO: {nome_modelo} falhou: {e}\")\n",
    "        \n",
    "        # --- 3. Modelo Híbrido (MIMO) ---\n",
    "        if 'ARIMA' in previsoes_teste and modelo_arima is not None:\n",
    "            try:\n",
    "                print(\"Processando: Híbrido (MIMO)\")\n",
    "                residuos_treino_log = modelo_arima.resid\n",
    "                df_residuos_nf = preparar_dados_para_neuralforecast(residuos_treino_log, \"residuos\")\n",
    "                modelo_residuos = [NBEATS(input_size=min(2*horizonte, MAX_INPUT_SIZE), h=horizonte, max_steps=MAX_STEPS_NEURAL, scaler_type='standard', random_seed=SEED)]\n",
    "                nf_residuos = NeuralForecast(models=modelo_residuos, freq=freq)\n",
    "                nf_residuos.fit(df=df_residuos_nf, verbose=False)\n",
    "                preds_residuos_log = nf_residuos.predict()['NBEATS'].values\n",
    "                previsoes_teste['Híbrido (MIMO)'] = previsoes_teste['ARIMA'] + preds_residuos_log\n",
    "            except Exception as e: print(f\"AVISO: Híbrido (MIMO) falhou: {e}\")\n",
    "            \n",
    "        df_final = pd.DataFrame(previsoes_teste, index=teste_orig.index)\n",
    "        df_final['dataset'] = nome_da_serie\n",
    "        df_final['horizonte'] = horizonte\n",
    "        return df_final.reset_index().rename(columns={'index': 'ds'})\n",
    "    except Exception as e:\n",
    "        print(f\"ERRO GERAL no processamento de '{nome_da_serie}' para o horizonte {horizonte}: {e}\")"
   ]
  },
  {
   "cell_type": "code",
   "execution_count": 13,
   "id": "6a005504",
   "metadata": {},
   "outputs": [],
   "source": [
    "# =========================================================\n",
    "# SEÇÃO 6: ORQUESTRADOR\n",
    "# ========================================================="
   ]
  },
  {
   "cell_type": "code",
   "execution_count": 25,
   "id": "dc9f10c9",
   "metadata": {},
   "outputs": [],
   "source": [
    "LISTA_DE_DATASETS = ['AirPassengers', 'co2'] \n",
    "VETOR_DE_HORIZONTES = [12, 24]\n",
    "resultados_gerais = []\n",
    "output_dir = \"./data/silver\"\n",
    "os.makedirs(output_dir, exist_ok=True)\n",
    "output_file = os.path.join(output_dir, \"resultados_completos.csv\")"
   ]
  },
  {
   "cell_type": "code",
   "execution_count": null,
   "id": "6df8e17e",
   "metadata": {},
   "outputs": [
    {
     "name": "stderr",
     "output_type": "stream",
     "text": [
      "Processando Datasets:   0%|          | 0/2 [00:00<?, ?it/s]"
     ]
    },
    {
     "name": "stdout",
     "output_type": "stream",
     "text": [
      "Buscando dados de 'AirPassengers' via statsmodels...\n",
      "-> Cópia do dataset 'AirPassengers' salva em: ./data/bronze\\airpassengers.csv\n",
      "Processando: ARIMA\n",
      "Buscando melhor ordem ARIMA com auto_arima...\n",
      "Melhor ordem encontrada: (2, 0, 0) Sazonal: (0, 1, 1, 12)\n"
     ]
    },
    {
     "name": "stderr",
     "output_type": "stream",
     "text": [
      "Seed set to 42\n",
      "GPU available: False, used: False\n",
      "TPU available: False, using: 0 TPU cores\n",
      "HPU available: False, using: 0 HPUs\n"
     ]
    },
    {
     "name": "stdout",
     "output_type": "stream",
     "text": [
      "Processando: N-BEATS\n"
     ]
    },
    {
     "name": "stderr",
     "output_type": "stream",
     "text": [
      "\n",
      "  | Name         | Type          | Params | Mode \n",
      "-------------------------------------------------------\n",
      "0 | loss         | MAE           | 0      | train\n",
      "1 | padder_train | ConstantPad1d | 0      | train\n",
      "2 | scaler       | TemporalNorm  | 0      | train\n",
      "3 | blocks       | ModuleList    | 2.4 M  | train\n",
      "-------------------------------------------------------\n",
      "2.4 M     Trainable params\n",
      "900       Non-trainable params\n",
      "2.4 M     Total params\n",
      "9.789     Total estimated model params size (MB)\n",
      "31        Modules in train mode\n",
      "0         Modules in eval mode\n"
     ]
    },
    {
     "name": "stdout",
     "output_type": "stream",
     "text": [
      "Epoch 149: 100%|██████████| 1/1 [00:00<00:00,  3.68it/s, v_num=0, train_loss_step=0.0372, train_loss_epoch=0.0372]"
     ]
    },
    {
     "name": "stderr",
     "output_type": "stream",
     "text": [
      "`Trainer.fit` stopped: `max_steps=150` reached.\n"
     ]
    },
    {
     "name": "stdout",
     "output_type": "stream",
     "text": [
      "Epoch 149: 100%|██████████| 1/1 [00:00<00:00,  3.56it/s, v_num=0, train_loss_step=0.0372, train_loss_epoch=0.0372]"
     ]
    },
    {
     "name": "stderr",
     "output_type": "stream",
     "text": [
      "GPU available: False, used: False\n",
      "TPU available: False, using: 0 TPU cores\n",
      "HPU available: False, using: 0 HPUs\n"
     ]
    },
    {
     "name": "stdout",
     "output_type": "stream",
     "text": [
      "\n",
      "Predicting DataLoader 0: 100%|██████████| 1/1 [00:00<00:00, 58.58it/s]\n",
      "Processando: MLP\n"
     ]
    },
    {
     "name": "stderr",
     "output_type": "stream",
     "text": [
      "Seed set to 42\n",
      "GPU available: False, used: False\n",
      "TPU available: False, using: 0 TPU cores\n",
      "HPU available: False, using: 0 HPUs\n",
      "\n",
      "  | Name         | Type          | Params | Mode \n",
      "-------------------------------------------------------\n",
      "0 | loss         | MAE           | 0      | train\n",
      "1 | padder_train | ConstantPad1d | 0      | train\n",
      "2 | scaler       | TemporalNorm  | 0      | train\n",
      "3 | mlp          | ModuleList    | 1.1 M  | train\n",
      "4 | out          | Linear        | 12.3 K | train\n",
      "-------------------------------------------------------\n",
      "1.1 M     Trainable params\n",
      "0         Non-trainable params\n",
      "1.1 M     Total params\n",
      "4.350     Total estimated model params size (MB)\n",
      "7         Modules in train mode\n",
      "0         Modules in eval mode\n"
     ]
    },
    {
     "name": "stdout",
     "output_type": "stream",
     "text": [
      "Epoch 149: 100%|██████████| 1/1 [00:00<00:00,  7.92it/s, v_num=2, train_loss_step=0.0705, train_loss_epoch=0.0705]"
     ]
    },
    {
     "name": "stderr",
     "output_type": "stream",
     "text": [
      "`Trainer.fit` stopped: `max_steps=150` reached.\n"
     ]
    },
    {
     "name": "stdout",
     "output_type": "stream",
     "text": [
      "Epoch 149: 100%|██████████| 1/1 [00:00<00:00,  7.48it/s, v_num=2, train_loss_step=0.0705, train_loss_epoch=0.0705]\n"
     ]
    },
    {
     "name": "stderr",
     "output_type": "stream",
     "text": [
      "GPU available: False, used: False\n",
      "TPU available: False, using: 0 TPU cores\n",
      "HPU available: False, using: 0 HPUs\n"
     ]
    },
    {
     "name": "stdout",
     "output_type": "stream",
     "text": [
      "Predicting DataLoader 0: 100%|██████████| 1/1 [00:00<00:00, 77.78it/s] "
     ]
    },
    {
     "name": "stderr",
     "output_type": "stream",
     "text": [
      "Seed set to 42\n",
      "GPU available: False, used: False\n",
      "TPU available: False, using: 0 TPU cores\n",
      "HPU available: False, using: 0 HPUs\n",
      "\n",
      "  | Name            | Type          | Params | Mode \n",
      "----------------------------------------------------------\n",
      "0 | loss            | MAE           | 0      | train\n",
      "1 | padder          | ConstantPad1d | 0      | train\n",
      "2 | scaler          | TemporalNorm  | 0      | train\n",
      "3 | hist_encoder    | LSTM          | 484 K  | train\n",
      "4 | context_adapter | Linear        | 24.1 K | train\n",
      "5 | mlp_decoder     | MLP           | 2.4 K  | train\n",
      "----------------------------------------------------------\n",
      "510 K     Trainable params\n",
      "0         Non-trainable params\n",
      "510 K     Total params\n",
      "2.042     Total estimated model params size (MB)\n",
      "11        Modules in train mode\n",
      "0         Modules in eval mode\n"
     ]
    },
    {
     "name": "stdout",
     "output_type": "stream",
     "text": [
      "\n",
      "Processando: LSTM\n",
      "Epoch 149: 100%|██████████| 1/1 [00:00<00:00, 22.89it/s, v_num=4, train_loss_step=0.331, train_loss_epoch=0.331]"
     ]
    },
    {
     "name": "stderr",
     "output_type": "stream",
     "text": [
      "`Trainer.fit` stopped: `max_steps=150` reached.\n"
     ]
    },
    {
     "name": "stdout",
     "output_type": "stream",
     "text": [
      "Epoch 149: 100%|██████████| 1/1 [00:00<00:00, 20.05it/s, v_num=4, train_loss_step=0.331, train_loss_epoch=0.331]\n"
     ]
    },
    {
     "name": "stderr",
     "output_type": "stream",
     "text": [
      "GPU available: False, used: False\n",
      "TPU available: False, using: 0 TPU cores\n",
      "HPU available: False, using: 0 HPUs\n"
     ]
    },
    {
     "name": "stdout",
     "output_type": "stream",
     "text": [
      "Predicting DataLoader 0: 100%|██████████| 1/1 [00:00<00:00, 38.27it/s]\n",
      "Processando: Autoformer\n"
     ]
    },
    {
     "name": "stderr",
     "output_type": "stream",
     "text": [
      "Seed set to 42\n",
      "GPU available: False, used: False\n",
      "TPU available: False, using: 0 TPU cores\n",
      "HPU available: False, using: 0 HPUs\n",
      "\n",
      "  | Name          | Type          | Params | Mode \n",
      "--------------------------------------------------------\n",
      "0 | loss          | MAE           | 0      | train\n",
      "1 | padder_train  | ConstantPad1d | 0      | train\n",
      "2 | scaler        | TemporalNorm  | 0      | train\n",
      "3 | decomp        | SeriesDecomp  | 0      | train\n",
      "4 | enc_embedding | DataEmbedding | 384    | train\n",
      "5 | dec_embedding | DataEmbedding | 384    | train\n",
      "6 | encoder       | Encoder       | 148 K  | train\n",
      "7 | decoder       | Decoder       | 141 K  | train\n",
      "--------------------------------------------------------\n",
      "290 K     Trainable params\n",
      "0         Non-trainable params\n",
      "290 K     Total params\n",
      "1.162     Total estimated model params size (MB)\n",
      "85        Modules in train mode\n",
      "0         Modules in eval mode\n"
     ]
    },
    {
     "name": "stdout",
     "output_type": "stream",
     "text": [
      "Epoch 149: 100%|██████████| 1/1 [00:03<00:00,  0.31it/s, v_num=6, train_loss_step=0.390, train_loss_epoch=0.390]"
     ]
    },
    {
     "name": "stderr",
     "output_type": "stream",
     "text": [
      "`Trainer.fit` stopped: `max_steps=150` reached.\n"
     ]
    },
    {
     "name": "stdout",
     "output_type": "stream",
     "text": [
      "Epoch 149: 100%|██████████| 1/1 [00:03<00:00,  0.31it/s, v_num=6, train_loss_step=0.390, train_loss_epoch=0.390]"
     ]
    },
    {
     "name": "stderr",
     "output_type": "stream",
     "text": [
      "GPU available: False, used: False\n",
      "TPU available: False, using: 0 TPU cores\n",
      "HPU available: False, using: 0 HPUs\n"
     ]
    },
    {
     "name": "stdout",
     "output_type": "stream",
     "text": [
      "\n",
      "Predicting DataLoader 0: 100%|██████████| 1/1 [00:00<00:00,  5.11it/s]"
     ]
    },
    {
     "name": "stderr",
     "output_type": "stream",
     "text": [
      "Seed set to 42\n",
      "GPU available: False, used: False\n",
      "TPU available: False, using: 0 TPU cores\n",
      "HPU available: False, using: 0 HPUs\n",
      "\n",
      "  | Name         | Type          | Params | Mode \n",
      "-------------------------------------------------------\n",
      "0 | loss         | MAE           | 0      | train\n",
      "1 | padder_train | ConstantPad1d | 0      | train\n",
      "2 | scaler       | TemporalNorm  | 0      | train\n",
      "3 | blocks       | ModuleList    | 2.4 M  | train\n",
      "-------------------------------------------------------\n",
      "2.4 M     Trainable params\n",
      "0         Non-trainable params\n",
      "2.4 M     Total params\n",
      "9.751     Total estimated model params size (MB)\n",
      "34        Modules in train mode\n",
      "0         Modules in eval mode\n"
     ]
    },
    {
     "name": "stdout",
     "output_type": "stream",
     "text": [
      "\n",
      "Processando: NHITS\n",
      "Epoch 149: 100%|██████████| 1/1 [00:00<00:00,  4.24it/s, v_num=8, train_loss_step=0.0618, train_loss_epoch=0.0618]"
     ]
    },
    {
     "name": "stderr",
     "output_type": "stream",
     "text": [
      "`Trainer.fit` stopped: `max_steps=150` reached.\n"
     ]
    },
    {
     "name": "stdout",
     "output_type": "stream",
     "text": [
      "Epoch 149: 100%|██████████| 1/1 [00:00<00:00,  4.12it/s, v_num=8, train_loss_step=0.0618, train_loss_epoch=0.0618]"
     ]
    },
    {
     "name": "stderr",
     "output_type": "stream",
     "text": [
      "GPU available: False, used: False\n",
      "TPU available: False, using: 0 TPU cores\n",
      "HPU available: False, using: 0 HPUs\n"
     ]
    },
    {
     "name": "stdout",
     "output_type": "stream",
     "text": [
      "\n",
      "Predicting DataLoader 0: 100%|██████████| 1/1 [00:00<00:00, 78.94it/s] \n",
      "Processando: Híbrido (MIMO)\n"
     ]
    },
    {
     "name": "stderr",
     "output_type": "stream",
     "text": [
      "Seed set to 42\n",
      "GPU available: False, used: False\n",
      "TPU available: False, using: 0 TPU cores\n",
      "HPU available: False, using: 0 HPUs\n",
      "\n",
      "  | Name         | Type          | Params | Mode \n",
      "-------------------------------------------------------\n",
      "0 | loss         | MAE           | 0      | train\n",
      "1 | padder_train | ConstantPad1d | 0      | train\n",
      "2 | scaler       | TemporalNorm  | 0      | train\n",
      "3 | blocks       | ModuleList    | 2.4 M  | train\n",
      "-------------------------------------------------------\n",
      "2.4 M     Trainable params\n",
      "900       Non-trainable params\n",
      "2.4 M     Total params\n",
      "9.789     Total estimated model params size (MB)\n",
      "31        Modules in train mode\n",
      "0         Modules in eval mode\n"
     ]
    },
    {
     "name": "stdout",
     "output_type": "stream",
     "text": [
      "Epoch 149: 100%|██████████| 1/1 [00:00<00:00,  4.22it/s, v_num=10, train_loss_step=0.0121, train_loss_epoch=0.0121]"
     ]
    },
    {
     "name": "stderr",
     "output_type": "stream",
     "text": [
      "`Trainer.fit` stopped: `max_steps=150` reached.\n"
     ]
    },
    {
     "name": "stdout",
     "output_type": "stream",
     "text": [
      "Epoch 149: 100%|██████████| 1/1 [00:00<00:00,  4.09it/s, v_num=10, train_loss_step=0.0121, train_loss_epoch=0.0121]"
     ]
    },
    {
     "name": "stderr",
     "output_type": "stream",
     "text": [
      "GPU available: False, used: False\n",
      "TPU available: False, using: 0 TPU cores\n",
      "HPU available: False, using: 0 HPUs\n"
     ]
    },
    {
     "name": "stdout",
     "output_type": "stream",
     "text": [
      "\n",
      "Predicting DataLoader 0: 100%|██████████| 1/1 [00:00<00:00, 80.75it/s] \n"
     ]
    },
    {
     "name": "stderr",
     "output_type": "stream",
     "text": []
    },
    {
     "name": "stdout",
     "output_type": "stream",
     "text": [
      "Buscando dados de 'AirPassengers' via statsmodels...\n",
      "-> Cópia do dataset 'AirPassengers' salva em: ./data/bronze\\airpassengers.csv\n",
      "Processando: ARIMA\n",
      "Buscando melhor ordem ARIMA com auto_arima...\n",
      "Melhor ordem encontrada: (2, 0, 0) Sazonal: (0, 1, 1, 12)\n"
     ]
    },
    {
     "name": "stderr",
     "output_type": "stream",
     "text": [
      "Seed set to 42\n",
      "GPU available: False, used: False\n",
      "TPU available: False, using: 0 TPU cores\n",
      "HPU available: False, using: 0 HPUs\n",
      "\n",
      "  | Name         | Type          | Params | Mode \n",
      "-------------------------------------------------------\n",
      "0 | loss         | MAE           | 0      | train\n",
      "1 | padder_train | ConstantPad1d | 0      | train\n",
      "2 | scaler       | TemporalNorm  | 0      | train\n",
      "3 | blocks       | ModuleList    | 2.5 M  | train\n",
      "-------------------------------------------------------\n",
      "2.5 M     Trainable params\n",
      "2.4 K     Non-trainable params\n",
      "2.5 M     Total params\n",
      "9.918     Total estimated model params size (MB)\n",
      "31        Modules in train mode\n",
      "0         Modules in eval mode\n"
     ]
    },
    {
     "name": "stdout",
     "output_type": "stream",
     "text": [
      "Processando: N-BEATS\n",
      "Epoch 149: 100%|██████████| 1/1 [00:00<00:00,  4.45it/s, v_num=12, train_loss_step=0.0408, train_loss_epoch=0.0408]"
     ]
    },
    {
     "name": "stderr",
     "output_type": "stream",
     "text": [
      "`Trainer.fit` stopped: `max_steps=150` reached.\n"
     ]
    },
    {
     "name": "stdout",
     "output_type": "stream",
     "text": [
      "Epoch 149: 100%|██████████| 1/1 [00:00<00:00,  4.32it/s, v_num=12, train_loss_step=0.0408, train_loss_epoch=0.0408]"
     ]
    },
    {
     "name": "stderr",
     "output_type": "stream",
     "text": [
      "GPU available: False, used: False\n",
      "TPU available: False, using: 0 TPU cores\n",
      "HPU available: False, using: 0 HPUs\n"
     ]
    },
    {
     "name": "stdout",
     "output_type": "stream",
     "text": [
      "\n",
      "Predicting DataLoader 0: 100%|██████████| 1/1 [00:00<00:00, 71.45it/s]"
     ]
    },
    {
     "name": "stderr",
     "output_type": "stream",
     "text": [
      "Seed set to 42\n"
     ]
    },
    {
     "name": "stdout",
     "output_type": "stream",
     "text": [
      "\n",
      "Processando: MLP\n"
     ]
    },
    {
     "name": "stderr",
     "output_type": "stream",
     "text": [
      "GPU available: False, used: False\n",
      "TPU available: False, using: 0 TPU cores\n",
      "HPU available: False, using: 0 HPUs\n",
      "\n",
      "  | Name         | Type          | Params | Mode \n",
      "-------------------------------------------------------\n",
      "0 | loss         | MAE           | 0      | train\n",
      "1 | padder_train | ConstantPad1d | 0      | train\n",
      "2 | scaler       | TemporalNorm  | 0      | train\n",
      "3 | mlp          | ModuleList    | 1.1 M  | train\n",
      "4 | out          | Linear        | 24.6 K | train\n",
      "-------------------------------------------------------\n",
      "1.1 M     Trainable params\n",
      "0         Non-trainable params\n",
      "1.1 M     Total params\n",
      "4.399     Total estimated model params size (MB)\n",
      "7         Modules in train mode\n",
      "0         Modules in eval mode\n"
     ]
    },
    {
     "name": "stdout",
     "output_type": "stream",
     "text": [
      "Epoch 149: 100%|██████████| 1/1 [00:00<00:00,  7.85it/s, v_num=14, train_loss_step=0.0851, train_loss_epoch=0.0851]"
     ]
    },
    {
     "name": "stderr",
     "output_type": "stream",
     "text": [
      "`Trainer.fit` stopped: `max_steps=150` reached.\n"
     ]
    },
    {
     "name": "stdout",
     "output_type": "stream",
     "text": [
      "Epoch 149: 100%|██████████| 1/1 [00:00<00:00,  7.40it/s, v_num=14, train_loss_step=0.0851, train_loss_epoch=0.0851]\n"
     ]
    },
    {
     "name": "stderr",
     "output_type": "stream",
     "text": [
      "GPU available: False, used: False\n",
      "TPU available: False, using: 0 TPU cores\n",
      "HPU available: False, using: 0 HPUs\n"
     ]
    },
    {
     "name": "stdout",
     "output_type": "stream",
     "text": [
      "Predicting DataLoader 0: 100%|██████████| 1/1 [00:00<00:00, 87.71it/s] "
     ]
    },
    {
     "name": "stderr",
     "output_type": "stream",
     "text": [
      "Seed set to 42\n"
     ]
    },
    {
     "name": "stdout",
     "output_type": "stream",
     "text": [
      "\n",
      "Processando: LSTM\n"
     ]
    },
    {
     "name": "stderr",
     "output_type": "stream",
     "text": [
      "GPU available: False, used: False\n",
      "TPU available: False, using: 0 TPU cores\n",
      "HPU available: False, using: 0 HPUs\n",
      "\n",
      "  | Name            | Type          | Params | Mode \n",
      "----------------------------------------------------------\n",
      "0 | loss            | MAE           | 0      | train\n",
      "1 | padder          | ConstantPad1d | 0      | train\n",
      "2 | scaler          | TemporalNorm  | 0      | train\n",
      "3 | hist_encoder    | LSTM          | 484 K  | train\n",
      "4 | context_adapter | Linear        | 48.2 K | train\n",
      "5 | mlp_decoder     | MLP           | 2.4 K  | train\n",
      "----------------------------------------------------------\n",
      "534 K     Trainable params\n",
      "0         Non-trainable params\n",
      "534 K     Total params\n",
      "2.139     Total estimated model params size (MB)\n",
      "11        Modules in train mode\n",
      "0         Modules in eval mode\n"
     ]
    },
    {
     "name": "stdout",
     "output_type": "stream",
     "text": [
      "Epoch 149: 100%|██████████| 1/1 [00:00<00:00, 27.98it/s, v_num=16, train_loss_step=0.289, train_loss_epoch=0.289]"
     ]
    },
    {
     "name": "stderr",
     "output_type": "stream",
     "text": [
      "`Trainer.fit` stopped: `max_steps=150` reached.\n"
     ]
    },
    {
     "name": "stdout",
     "output_type": "stream",
     "text": [
      "Epoch 149: 100%|██████████| 1/1 [00:00<00:00, 24.11it/s, v_num=16, train_loss_step=0.289, train_loss_epoch=0.289]\n"
     ]
    },
    {
     "name": "stderr",
     "output_type": "stream",
     "text": [
      "GPU available: False, used: False\n",
      "TPU available: False, using: 0 TPU cores\n",
      "HPU available: False, using: 0 HPUs\n"
     ]
    },
    {
     "name": "stdout",
     "output_type": "stream",
     "text": [
      "Predicting DataLoader 0: 100%|██████████| 1/1 [00:00<00:00, 46.85it/s]\n",
      "Processando: Autoformer\n"
     ]
    },
    {
     "name": "stderr",
     "output_type": "stream",
     "text": [
      "Seed set to 42\n",
      "GPU available: False, used: False\n",
      "TPU available: False, using: 0 TPU cores\n",
      "HPU available: False, using: 0 HPUs\n",
      "\n",
      "  | Name          | Type          | Params | Mode \n",
      "--------------------------------------------------------\n",
      "0 | loss          | MAE           | 0      | train\n",
      "1 | padder_train  | ConstantPad1d | 0      | train\n",
      "2 | scaler        | TemporalNorm  | 0      | train\n",
      "3 | decomp        | SeriesDecomp  | 0      | train\n",
      "4 | enc_embedding | DataEmbedding | 384    | train\n",
      "5 | dec_embedding | DataEmbedding | 384    | train\n",
      "6 | encoder       | Encoder       | 148 K  | train\n",
      "7 | decoder       | Decoder       | 141 K  | train\n",
      "--------------------------------------------------------\n",
      "290 K     Trainable params\n",
      "0         Non-trainable params\n",
      "290 K     Total params\n",
      "1.162     Total estimated model params size (MB)\n",
      "85        Modules in train mode\n",
      "0         Modules in eval mode\n"
     ]
    },
    {
     "name": "stdout",
     "output_type": "stream",
     "text": [
      "Epoch 149: 100%|██████████| 1/1 [00:04<00:00,  0.21it/s, v_num=18, train_loss_step=0.501, train_loss_epoch=0.501]"
     ]
    },
    {
     "name": "stderr",
     "output_type": "stream",
     "text": [
      "`Trainer.fit` stopped: `max_steps=150` reached.\n"
     ]
    },
    {
     "name": "stdout",
     "output_type": "stream",
     "text": [
      "Epoch 149: 100%|██████████| 1/1 [00:04<00:00,  0.21it/s, v_num=18, train_loss_step=0.501, train_loss_epoch=0.501]"
     ]
    },
    {
     "name": "stderr",
     "output_type": "stream",
     "text": [
      "GPU available: False, used: False\n",
      "TPU available: False, using: 0 TPU cores\n",
      "HPU available: False, using: 0 HPUs\n"
     ]
    },
    {
     "name": "stdout",
     "output_type": "stream",
     "text": [
      "\n",
      "Predicting DataLoader 0: 100%|██████████| 1/1 [00:00<00:00, 10.43it/s]"
     ]
    },
    {
     "name": "stderr",
     "output_type": "stream",
     "text": [
      "Seed set to 42\n"
     ]
    },
    {
     "name": "stdout",
     "output_type": "stream",
     "text": [
      "\n",
      "Processando: NHITS\n"
     ]
    },
    {
     "name": "stderr",
     "output_type": "stream",
     "text": [
      "GPU available: False, used: False\n",
      "TPU available: False, using: 0 TPU cores\n",
      "HPU available: False, using: 0 HPUs\n",
      "\n",
      "  | Name         | Type          | Params | Mode \n",
      "-------------------------------------------------------\n",
      "0 | loss         | MAE           | 0      | train\n",
      "1 | padder_train | ConstantPad1d | 0      | train\n",
      "2 | scaler       | TemporalNorm  | 0      | train\n",
      "3 | blocks       | ModuleList    | 2.4 M  | train\n",
      "-------------------------------------------------------\n",
      "2.4 M     Trainable params\n",
      "0         Non-trainable params\n",
      "2.4 M     Total params\n",
      "9.794     Total estimated model params size (MB)\n",
      "34        Modules in train mode\n",
      "0         Modules in eval mode\n"
     ]
    },
    {
     "name": "stdout",
     "output_type": "stream",
     "text": [
      "Epoch 149: 100%|██████████| 1/1 [00:00<00:00,  3.58it/s, v_num=20, train_loss_step=0.0761, train_loss_epoch=0.0761]"
     ]
    },
    {
     "name": "stderr",
     "output_type": "stream",
     "text": [
      "`Trainer.fit` stopped: `max_steps=150` reached.\n"
     ]
    },
    {
     "name": "stdout",
     "output_type": "stream",
     "text": [
      "Epoch 149: 100%|██████████| 1/1 [00:00<00:00,  3.47it/s, v_num=20, train_loss_step=0.0761, train_loss_epoch=0.0761]"
     ]
    },
    {
     "name": "stderr",
     "output_type": "stream",
     "text": [
      "GPU available: False, used: False\n",
      "TPU available: False, using: 0 TPU cores\n",
      "HPU available: False, using: 0 HPUs\n"
     ]
    },
    {
     "name": "stdout",
     "output_type": "stream",
     "text": [
      "\n",
      "Predicting DataLoader 0: 100%|██████████| 1/1 [00:00<00:00, 57.47it/s]\n"
     ]
    },
    {
     "name": "stderr",
     "output_type": "stream",
     "text": [
      "Seed set to 42\n"
     ]
    },
    {
     "name": "stdout",
     "output_type": "stream",
     "text": [
      "Processando: Híbrido (MIMO)\n"
     ]
    },
    {
     "name": "stderr",
     "output_type": "stream",
     "text": [
      "GPU available: False, used: False\n",
      "TPU available: False, using: 0 TPU cores\n",
      "HPU available: False, using: 0 HPUs\n",
      "\n",
      "  | Name         | Type          | Params | Mode \n",
      "-------------------------------------------------------\n",
      "0 | loss         | MAE           | 0      | train\n",
      "1 | padder_train | ConstantPad1d | 0      | train\n",
      "2 | scaler       | TemporalNorm  | 0      | train\n",
      "3 | blocks       | ModuleList    | 2.5 M  | train\n",
      "-------------------------------------------------------\n",
      "2.5 M     Trainable params\n",
      "2.4 K     Non-trainable params\n",
      "2.5 M     Total params\n",
      "9.918     Total estimated model params size (MB)\n",
      "31        Modules in train mode\n",
      "0         Modules in eval mode\n"
     ]
    },
    {
     "name": "stdout",
     "output_type": "stream",
     "text": [
      "Epoch 149: 100%|██████████| 1/1 [00:00<00:00,  3.64it/s, v_num=22, train_loss_step=0.0121, train_loss_epoch=0.0121]"
     ]
    },
    {
     "name": "stderr",
     "output_type": "stream",
     "text": [
      "`Trainer.fit` stopped: `max_steps=150` reached.\n"
     ]
    },
    {
     "name": "stdout",
     "output_type": "stream",
     "text": [
      "Epoch 149: 100%|██████████| 1/1 [00:00<00:00,  3.55it/s, v_num=22, train_loss_step=0.0121, train_loss_epoch=0.0121]"
     ]
    },
    {
     "name": "stderr",
     "output_type": "stream",
     "text": [
      "GPU available: False, used: False\n",
      "TPU available: False, using: 0 TPU cores\n",
      "HPU available: False, using: 0 HPUs\n"
     ]
    },
    {
     "name": "stdout",
     "output_type": "stream",
     "text": [
      "\n",
      "Predicting DataLoader 0: 100%|██████████| 1/1 [00:00<00:00, 66.54it/s]\n"
     ]
    },
    {
     "name": "stderr",
     "output_type": "stream",
     "text": [
      "Processando Datasets:  50%|█████     | 1/2 [29:43<29:43, 1783.42s/it]"
     ]
    },
    {
     "name": "stdout",
     "output_type": "stream",
     "text": [
      "Buscando dados de 'co2' via statsmodels...\n",
      "-> Cópia do dataset 'co2' salva em: ./data/bronze\\co2.csv\n",
      "Processando: ARIMA\n",
      "Buscando melhor ordem ARIMA com auto_arima...\n",
      "Melhor ordem encontrada: (3, 1, 2) Sazonal: (2, 0, 2, 12)\n"
     ]
    },
    {
     "name": "stderr",
     "output_type": "stream",
     "text": [
      "Seed set to 42\n",
      "GPU available: False, used: False\n",
      "TPU available: False, using: 0 TPU cores\n",
      "HPU available: False, using: 0 HPUs\n",
      "\n",
      "  | Name         | Type          | Params | Mode \n",
      "-------------------------------------------------------\n",
      "0 | loss         | MAE           | 0      | train\n",
      "1 | padder_train | ConstantPad1d | 0      | train\n",
      "2 | scaler       | TemporalNorm  | 0      | train\n",
      "3 | blocks       | ModuleList    | 2.4 M  | train\n",
      "-------------------------------------------------------\n",
      "2.4 M     Trainable params\n",
      "900       Non-trainable params\n",
      "2.4 M     Total params\n",
      "9.789     Total estimated model params size (MB)\n",
      "31        Modules in train mode\n",
      "0         Modules in eval mode\n"
     ]
    },
    {
     "name": "stdout",
     "output_type": "stream",
     "text": [
      "Processando: N-BEATS\n",
      "Epoch 149: 100%|██████████| 1/1 [00:00<00:00,  3.36it/s, v_num=24, train_loss_step=0.137, train_loss_epoch=0.137]"
     ]
    },
    {
     "name": "stderr",
     "output_type": "stream",
     "text": [
      "`Trainer.fit` stopped: `max_steps=150` reached.\n"
     ]
    },
    {
     "name": "stdout",
     "output_type": "stream",
     "text": [
      "Epoch 149: 100%|██████████| 1/1 [00:00<00:00,  3.29it/s, v_num=24, train_loss_step=0.137, train_loss_epoch=0.137]"
     ]
    },
    {
     "name": "stderr",
     "output_type": "stream",
     "text": [
      "GPU available: False, used: False\n",
      "TPU available: False, using: 0 TPU cores\n",
      "HPU available: False, using: 0 HPUs\n"
     ]
    },
    {
     "name": "stdout",
     "output_type": "stream",
     "text": [
      "\n",
      "Predicting DataLoader 0: 100%|██████████| 1/1 [00:00<00:00, 57.88it/s]"
     ]
    },
    {
     "name": "stderr",
     "output_type": "stream",
     "text": [
      "Seed set to 42\n",
      "GPU available: False, used: False\n",
      "TPU available: False, using: 0 TPU cores\n",
      "HPU available: False, using: 0 HPUs\n",
      "\n",
      "  | Name         | Type          | Params | Mode \n",
      "-------------------------------------------------------\n",
      "0 | loss         | MAE           | 0      | train\n",
      "1 | padder_train | ConstantPad1d | 0      | train\n",
      "2 | scaler       | TemporalNorm  | 0      | train\n",
      "3 | mlp          | ModuleList    | 1.1 M  | train\n",
      "4 | out          | Linear        | 12.3 K | train\n",
      "-------------------------------------------------------\n",
      "1.1 M     Trainable params\n",
      "0         Non-trainable params\n",
      "1.1 M     Total params\n",
      "4.350     Total estimated model params size (MB)\n",
      "7         Modules in train mode\n",
      "0         Modules in eval mode\n"
     ]
    },
    {
     "name": "stdout",
     "output_type": "stream",
     "text": [
      "\n",
      "Processando: MLP\n",
      "Epoch 149: 100%|██████████| 1/1 [00:00<00:00,  7.21it/s, v_num=26, train_loss_step=0.138, train_loss_epoch=0.138]"
     ]
    },
    {
     "name": "stderr",
     "output_type": "stream",
     "text": [
      "`Trainer.fit` stopped: `max_steps=150` reached.\n"
     ]
    },
    {
     "name": "stdout",
     "output_type": "stream",
     "text": [
      "Epoch 149: 100%|██████████| 1/1 [00:00<00:00,  6.91it/s, v_num=26, train_loss_step=0.138, train_loss_epoch=0.138]\n"
     ]
    },
    {
     "name": "stderr",
     "output_type": "stream",
     "text": [
      "GPU available: False, used: False\n",
      "TPU available: False, using: 0 TPU cores\n",
      "HPU available: False, using: 0 HPUs\n"
     ]
    },
    {
     "name": "stdout",
     "output_type": "stream",
     "text": [
      "Predicting DataLoader 0: 100%|██████████| 1/1 [00:00<00:00, 73.63it/s]"
     ]
    },
    {
     "name": "stderr",
     "output_type": "stream",
     "text": [
      "Seed set to 42\n"
     ]
    },
    {
     "name": "stdout",
     "output_type": "stream",
     "text": [
      "\n",
      "Processando: LSTM\n"
     ]
    },
    {
     "name": "stderr",
     "output_type": "stream",
     "text": [
      "GPU available: False, used: False\n",
      "TPU available: False, using: 0 TPU cores\n",
      "HPU available: False, using: 0 HPUs\n",
      "\n",
      "  | Name            | Type          | Params | Mode \n",
      "----------------------------------------------------------\n",
      "0 | loss            | MAE           | 0      | train\n",
      "1 | padder          | ConstantPad1d | 0      | train\n",
      "2 | scaler          | TemporalNorm  | 0      | train\n",
      "3 | hist_encoder    | LSTM          | 484 K  | train\n",
      "4 | context_adapter | Linear        | 24.1 K | train\n",
      "5 | mlp_decoder     | MLP           | 2.4 K  | train\n",
      "----------------------------------------------------------\n",
      "510 K     Trainable params\n",
      "0         Non-trainable params\n",
      "510 K     Total params\n",
      "2.042     Total estimated model params size (MB)\n",
      "11        Modules in train mode\n",
      "0         Modules in eval mode\n"
     ]
    },
    {
     "name": "stdout",
     "output_type": "stream",
     "text": [
      "Epoch 149: 100%|██████████| 1/1 [00:00<00:00, 14.62it/s, v_num=28, train_loss_step=0.198, train_loss_epoch=0.198]"
     ]
    },
    {
     "name": "stderr",
     "output_type": "stream",
     "text": [
      "`Trainer.fit` stopped: `max_steps=150` reached.\n"
     ]
    },
    {
     "name": "stdout",
     "output_type": "stream",
     "text": [
      "Epoch 149: 100%|██████████| 1/1 [00:00<00:00, 13.02it/s, v_num=28, train_loss_step=0.198, train_loss_epoch=0.198]\n"
     ]
    },
    {
     "name": "stderr",
     "output_type": "stream",
     "text": [
      "GPU available: False, used: False\n",
      "TPU available: False, using: 0 TPU cores\n",
      "HPU available: False, using: 0 HPUs\n"
     ]
    },
    {
     "name": "stdout",
     "output_type": "stream",
     "text": [
      "Predicting DataLoader 0: 100%|██████████| 1/1 [00:00<00:00,  4.99it/s]"
     ]
    },
    {
     "name": "stderr",
     "output_type": "stream",
     "text": [
      "Seed set to 42\n",
      "GPU available: False, used: False\n",
      "TPU available: False, using: 0 TPU cores\n",
      "HPU available: False, using: 0 HPUs\n",
      "\n",
      "  | Name          | Type          | Params | Mode \n",
      "--------------------------------------------------------\n",
      "0 | loss          | MAE           | 0      | train\n",
      "1 | padder_train  | ConstantPad1d | 0      | train\n",
      "2 | scaler        | TemporalNorm  | 0      | train\n",
      "3 | decomp        | SeriesDecomp  | 0      | train\n",
      "4 | enc_embedding | DataEmbedding | 384    | train\n",
      "5 | dec_embedding | DataEmbedding | 384    | train\n",
      "6 | encoder       | Encoder       | 148 K  | train\n",
      "7 | decoder       | Decoder       | 141 K  | train\n",
      "--------------------------------------------------------\n",
      "290 K     Trainable params\n",
      "0         Non-trainable params\n",
      "290 K     Total params\n",
      "1.162     Total estimated model params size (MB)\n",
      "85        Modules in train mode\n",
      "0         Modules in eval mode\n"
     ]
    },
    {
     "name": "stdout",
     "output_type": "stream",
     "text": [
      "\n",
      "Processando: Autoformer\n",
      "Epoch 149: 100%|██████████| 1/1 [00:03<00:00,  0.28it/s, v_num=30, train_loss_step=0.273, train_loss_epoch=0.273]"
     ]
    },
    {
     "name": "stderr",
     "output_type": "stream",
     "text": [
      "`Trainer.fit` stopped: `max_steps=150` reached.\n"
     ]
    },
    {
     "name": "stdout",
     "output_type": "stream",
     "text": [
      "Epoch 149: 100%|██████████| 1/1 [00:03<00:00,  0.28it/s, v_num=30, train_loss_step=0.273, train_loss_epoch=0.273]"
     ]
    },
    {
     "name": "stderr",
     "output_type": "stream",
     "text": [
      "GPU available: False, used: False\n",
      "TPU available: False, using: 0 TPU cores\n",
      "HPU available: False, using: 0 HPUs\n"
     ]
    },
    {
     "name": "stdout",
     "output_type": "stream",
     "text": [
      "\n",
      "Predicting DataLoader 0: 100%|██████████| 1/1 [00:00<00:00, 26.90it/s]"
     ]
    },
    {
     "name": "stderr",
     "output_type": "stream",
     "text": [
      "Seed set to 42\n"
     ]
    },
    {
     "name": "stdout",
     "output_type": "stream",
     "text": [
      "\n",
      "Processando: NHITS\n"
     ]
    },
    {
     "name": "stderr",
     "output_type": "stream",
     "text": [
      "GPU available: False, used: False\n",
      "TPU available: False, using: 0 TPU cores\n",
      "HPU available: False, using: 0 HPUs\n",
      "\n",
      "  | Name         | Type          | Params | Mode \n",
      "-------------------------------------------------------\n",
      "0 | loss         | MAE           | 0      | train\n",
      "1 | padder_train | ConstantPad1d | 0      | train\n",
      "2 | scaler       | TemporalNorm  | 0      | train\n",
      "3 | blocks       | ModuleList    | 2.4 M  | train\n",
      "-------------------------------------------------------\n",
      "2.4 M     Trainable params\n",
      "0         Non-trainable params\n",
      "2.4 M     Total params\n",
      "9.751     Total estimated model params size (MB)\n",
      "34        Modules in train mode\n",
      "0         Modules in eval mode\n"
     ]
    },
    {
     "name": "stdout",
     "output_type": "stream",
     "text": [
      "Epoch 149: 100%|██████████| 1/1 [00:00<00:00,  3.70it/s, v_num=32, train_loss_step=0.149, train_loss_epoch=0.149]"
     ]
    },
    {
     "name": "stderr",
     "output_type": "stream",
     "text": [
      "`Trainer.fit` stopped: `max_steps=150` reached.\n"
     ]
    },
    {
     "name": "stdout",
     "output_type": "stream",
     "text": [
      "Epoch 149: 100%|██████████| 1/1 [00:00<00:00,  3.60it/s, v_num=32, train_loss_step=0.149, train_loss_epoch=0.149]"
     ]
    },
    {
     "name": "stderr",
     "output_type": "stream",
     "text": [
      "GPU available: False, used: False\n",
      "TPU available: False, using: 0 TPU cores\n",
      "HPU available: False, using: 0 HPUs\n"
     ]
    },
    {
     "name": "stdout",
     "output_type": "stream",
     "text": [
      "\n",
      "Predicting DataLoader 0: 100%|██████████| 1/1 [00:00<00:00, 63.64it/s]"
     ]
    },
    {
     "name": "stderr",
     "output_type": "stream",
     "text": [
      "Seed set to 42\n",
      "GPU available: False, used: False\n",
      "TPU available: False, using: 0 TPU cores\n",
      "HPU available: False, using: 0 HPUs\n"
     ]
    },
    {
     "name": "stdout",
     "output_type": "stream",
     "text": [
      "\n",
      "Processando: Híbrido (MIMO)\n"
     ]
    },
    {
     "name": "stderr",
     "output_type": "stream",
     "text": [
      "\n",
      "  | Name         | Type          | Params | Mode \n",
      "-------------------------------------------------------\n",
      "0 | loss         | MAE           | 0      | train\n",
      "1 | padder_train | ConstantPad1d | 0      | train\n",
      "2 | scaler       | TemporalNorm  | 0      | train\n",
      "3 | blocks       | ModuleList    | 2.4 M  | train\n",
      "-------------------------------------------------------\n",
      "2.4 M     Trainable params\n",
      "900       Non-trainable params\n",
      "2.4 M     Total params\n",
      "9.789     Total estimated model params size (MB)\n",
      "31        Modules in train mode\n",
      "0         Modules in eval mode\n"
     ]
    },
    {
     "name": "stdout",
     "output_type": "stream",
     "text": [
      "Epoch 149: 100%|██████████| 1/1 [00:00<00:00,  3.69it/s, v_num=34, train_loss_step=0.0439, train_loss_epoch=0.0439]"
     ]
    },
    {
     "name": "stderr",
     "output_type": "stream",
     "text": [
      "`Trainer.fit` stopped: `max_steps=150` reached.\n"
     ]
    },
    {
     "name": "stdout",
     "output_type": "stream",
     "text": [
      "Epoch 149: 100%|██████████| 1/1 [00:00<00:00,  3.58it/s, v_num=34, train_loss_step=0.0439, train_loss_epoch=0.0439]"
     ]
    },
    {
     "name": "stderr",
     "output_type": "stream",
     "text": [
      "GPU available: False, used: False\n",
      "TPU available: False, using: 0 TPU cores\n",
      "HPU available: False, using: 0 HPUs\n"
     ]
    },
    {
     "name": "stdout",
     "output_type": "stream",
     "text": [
      "\n",
      "Predicting DataLoader 0: 100%|██████████| 1/1 [00:00<00:00, 63.82it/s]\n"
     ]
    },
    {
     "name": "stderr",
     "output_type": "stream",
     "text": []
    },
    {
     "name": "stdout",
     "output_type": "stream",
     "text": [
      "Buscando dados de 'co2' via statsmodels...\n",
      "-> Cópia do dataset 'co2' salva em: ./data/bronze\\co2.csv\n",
      "Processando: ARIMA\n",
      "Buscando melhor ordem ARIMA com auto_arima...\n",
      "Melhor ordem encontrada: (3, 1, 1) Sazonal: (2, 0, 2, 12)\n"
     ]
    },
    {
     "name": "stderr",
     "output_type": "stream",
     "text": [
      "Seed set to 42\n"
     ]
    },
    {
     "name": "stdout",
     "output_type": "stream",
     "text": [
      "Processando: N-BEATS\n"
     ]
    },
    {
     "name": "stderr",
     "output_type": "stream",
     "text": [
      "GPU available: False, used: False\n",
      "TPU available: False, using: 0 TPU cores\n",
      "HPU available: False, using: 0 HPUs\n",
      "\n",
      "  | Name         | Type          | Params | Mode \n",
      "-------------------------------------------------------\n",
      "0 | loss         | MAE           | 0      | train\n",
      "1 | padder_train | ConstantPad1d | 0      | train\n",
      "2 | scaler       | TemporalNorm  | 0      | train\n",
      "3 | blocks       | ModuleList    | 2.5 M  | train\n",
      "-------------------------------------------------------\n",
      "2.5 M     Trainable params\n",
      "2.4 K     Non-trainable params\n",
      "2.5 M     Total params\n",
      "9.918     Total estimated model params size (MB)\n",
      "31        Modules in train mode\n",
      "0         Modules in eval mode\n"
     ]
    },
    {
     "name": "stdout",
     "output_type": "stream",
     "text": [
      "Epoch 149: 100%|██████████| 1/1 [00:00<00:00,  3.92it/s, v_num=36, train_loss_step=0.176, train_loss_epoch=0.176]"
     ]
    },
    {
     "name": "stderr",
     "output_type": "stream",
     "text": [
      "`Trainer.fit` stopped: `max_steps=150` reached.\n"
     ]
    },
    {
     "name": "stdout",
     "output_type": "stream",
     "text": [
      "Epoch 149: 100%|██████████| 1/1 [00:00<00:00,  3.80it/s, v_num=36, train_loss_step=0.176, train_loss_epoch=0.176]"
     ]
    },
    {
     "name": "stderr",
     "output_type": "stream",
     "text": [
      "GPU available: False, used: False\n",
      "TPU available: False, using: 0 TPU cores\n",
      "HPU available: False, using: 0 HPUs\n"
     ]
    },
    {
     "name": "stdout",
     "output_type": "stream",
     "text": [
      "\n",
      "Predicting DataLoader 0: 100%|██████████| 1/1 [00:00<00:00, 64.54it/s]\n"
     ]
    },
    {
     "name": "stderr",
     "output_type": "stream",
     "text": [
      "Seed set to 42\n",
      "GPU available: False, used: False\n",
      "TPU available: False, using: 0 TPU cores\n",
      "HPU available: False, using: 0 HPUs\n",
      "\n",
      "  | Name         | Type          | Params | Mode \n",
      "-------------------------------------------------------\n",
      "0 | loss         | MAE           | 0      | train\n",
      "1 | padder_train | ConstantPad1d | 0      | train\n",
      "2 | scaler       | TemporalNorm  | 0      | train\n",
      "3 | mlp          | ModuleList    | 1.1 M  | train\n",
      "4 | out          | Linear        | 24.6 K | train\n",
      "-------------------------------------------------------\n",
      "1.1 M     Trainable params\n",
      "0         Non-trainable params\n",
      "1.1 M     Total params\n",
      "4.399     Total estimated model params size (MB)\n",
      "7         Modules in train mode\n",
      "0         Modules in eval mode\n"
     ]
    },
    {
     "name": "stdout",
     "output_type": "stream",
     "text": [
      "Processando: MLP\n",
      "Epoch 149: 100%|██████████| 1/1 [00:00<00:00,  7.97it/s, v_num=38, train_loss_step=0.188, train_loss_epoch=0.188]"
     ]
    },
    {
     "name": "stderr",
     "output_type": "stream",
     "text": [
      "`Trainer.fit` stopped: `max_steps=150` reached.\n"
     ]
    },
    {
     "name": "stdout",
     "output_type": "stream",
     "text": [
      "Epoch 149: 100%|██████████| 1/1 [00:00<00:00,  7.60it/s, v_num=38, train_loss_step=0.188, train_loss_epoch=0.188]\n"
     ]
    },
    {
     "name": "stderr",
     "output_type": "stream",
     "text": [
      "GPU available: False, used: False\n",
      "TPU available: False, using: 0 TPU cores\n",
      "HPU available: False, using: 0 HPUs\n"
     ]
    },
    {
     "name": "stdout",
     "output_type": "stream",
     "text": [
      "Predicting DataLoader 0: 100%|██████████| 1/1 [00:00<00:00, 81.41it/s] \n",
      "Processando: LSTM\n"
     ]
    },
    {
     "name": "stderr",
     "output_type": "stream",
     "text": [
      "Seed set to 42\n",
      "GPU available: False, used: False\n",
      "TPU available: False, using: 0 TPU cores\n",
      "HPU available: False, using: 0 HPUs\n",
      "\n",
      "  | Name            | Type          | Params | Mode \n",
      "----------------------------------------------------------\n",
      "0 | loss            | MAE           | 0      | train\n",
      "1 | padder          | ConstantPad1d | 0      | train\n",
      "2 | scaler          | TemporalNorm  | 0      | train\n",
      "3 | hist_encoder    | LSTM          | 484 K  | train\n",
      "4 | context_adapter | Linear        | 48.2 K | train\n",
      "5 | mlp_decoder     | MLP           | 2.4 K  | train\n",
      "----------------------------------------------------------\n",
      "534 K     Trainable params\n",
      "0         Non-trainable params\n",
      "534 K     Total params\n",
      "2.139     Total estimated model params size (MB)\n",
      "11        Modules in train mode\n",
      "0         Modules in eval mode\n"
     ]
    },
    {
     "name": "stdout",
     "output_type": "stream",
     "text": [
      "Epoch 149: 100%|██████████| 1/1 [00:00<00:00, 22.67it/s, v_num=40, train_loss_step=0.601, train_loss_epoch=0.601]"
     ]
    },
    {
     "name": "stderr",
     "output_type": "stream",
     "text": [
      "`Trainer.fit` stopped: `max_steps=150` reached.\n"
     ]
    },
    {
     "name": "stdout",
     "output_type": "stream",
     "text": [
      "Epoch 149: 100%|██████████| 1/1 [00:00<00:00, 19.56it/s, v_num=40, train_loss_step=0.601, train_loss_epoch=0.601]\n"
     ]
    },
    {
     "name": "stderr",
     "output_type": "stream",
     "text": [
      "GPU available: False, used: False\n",
      "TPU available: False, using: 0 TPU cores\n",
      "HPU available: False, using: 0 HPUs\n"
     ]
    },
    {
     "name": "stdout",
     "output_type": "stream",
     "text": [
      "Predicting DataLoader 0: 100%|██████████| 1/1 [00:00<00:00, 15.78it/s]"
     ]
    },
    {
     "name": "stderr",
     "output_type": "stream",
     "text": [
      "Seed set to 42\n"
     ]
    },
    {
     "name": "stdout",
     "output_type": "stream",
     "text": [
      "\n",
      "Processando: Autoformer\n"
     ]
    },
    {
     "name": "stderr",
     "output_type": "stream",
     "text": [
      "GPU available: False, used: False\n",
      "TPU available: False, using: 0 TPU cores\n",
      "HPU available: False, using: 0 HPUs\n",
      "\n",
      "  | Name          | Type          | Params | Mode \n",
      "--------------------------------------------------------\n",
      "0 | loss          | MAE           | 0      | train\n",
      "1 | padder_train  | ConstantPad1d | 0      | train\n",
      "2 | scaler        | TemporalNorm  | 0      | train\n",
      "3 | decomp        | SeriesDecomp  | 0      | train\n",
      "4 | enc_embedding | DataEmbedding | 384    | train\n",
      "5 | dec_embedding | DataEmbedding | 384    | train\n",
      "6 | encoder       | Encoder       | 148 K  | train\n",
      "7 | decoder       | Decoder       | 141 K  | train\n",
      "--------------------------------------------------------\n",
      "290 K     Trainable params\n",
      "0         Non-trainable params\n",
      "290 K     Total params\n",
      "1.162     Total estimated model params size (MB)\n",
      "85        Modules in train mode\n",
      "0         Modules in eval mode\n"
     ]
    },
    {
     "name": "stdout",
     "output_type": "stream",
     "text": [
      "Epoch 149: 100%|██████████| 1/1 [00:04<00:00,  0.22it/s, v_num=42, train_loss_step=0.357, train_loss_epoch=0.357]"
     ]
    },
    {
     "name": "stderr",
     "output_type": "stream",
     "text": [
      "`Trainer.fit` stopped: `max_steps=150` reached.\n"
     ]
    },
    {
     "name": "stdout",
     "output_type": "stream",
     "text": [
      "Epoch 149: 100%|██████████| 1/1 [00:04<00:00,  0.22it/s, v_num=42, train_loss_step=0.357, train_loss_epoch=0.357]"
     ]
    },
    {
     "name": "stderr",
     "output_type": "stream",
     "text": [
      "GPU available: False, used: False\n",
      "TPU available: False, using: 0 TPU cores\n",
      "HPU available: False, using: 0 HPUs\n"
     ]
    },
    {
     "name": "stdout",
     "output_type": "stream",
     "text": [
      "\n",
      "Predicting DataLoader 0: 100%|██████████| 1/1 [00:00<00:00, 27.58it/s]"
     ]
    },
    {
     "name": "stderr",
     "output_type": "stream",
     "text": [
      "Seed set to 42\n"
     ]
    },
    {
     "name": "stdout",
     "output_type": "stream",
     "text": [
      "\n",
      "Processando: NHITS\n"
     ]
    },
    {
     "name": "stderr",
     "output_type": "stream",
     "text": [
      "GPU available: False, used: False\n",
      "TPU available: False, using: 0 TPU cores\n",
      "HPU available: False, using: 0 HPUs\n",
      "\n",
      "  | Name         | Type          | Params | Mode \n",
      "-------------------------------------------------------\n",
      "0 | loss         | MAE           | 0      | train\n",
      "1 | padder_train | ConstantPad1d | 0      | train\n",
      "2 | scaler       | TemporalNorm  | 0      | train\n",
      "3 | blocks       | ModuleList    | 2.4 M  | train\n",
      "-------------------------------------------------------\n",
      "2.4 M     Trainable params\n",
      "0         Non-trainable params\n",
      "2.4 M     Total params\n",
      "9.794     Total estimated model params size (MB)\n",
      "34        Modules in train mode\n",
      "0         Modules in eval mode\n"
     ]
    },
    {
     "name": "stdout",
     "output_type": "stream",
     "text": [
      "Epoch 149: 100%|██████████| 1/1 [00:00<00:00,  3.53it/s, v_num=44, train_loss_step=0.197, train_loss_epoch=0.197]"
     ]
    },
    {
     "name": "stderr",
     "output_type": "stream",
     "text": [
      "`Trainer.fit` stopped: `max_steps=150` reached.\n"
     ]
    },
    {
     "name": "stdout",
     "output_type": "stream",
     "text": [
      "Epoch 149: 100%|██████████| 1/1 [00:00<00:00,  3.44it/s, v_num=44, train_loss_step=0.197, train_loss_epoch=0.197]"
     ]
    },
    {
     "name": "stderr",
     "output_type": "stream",
     "text": [
      "GPU available: False, used: False\n",
      "TPU available: False, using: 0 TPU cores\n",
      "HPU available: False, using: 0 HPUs\n"
     ]
    },
    {
     "name": "stdout",
     "output_type": "stream",
     "text": [
      "\n",
      "Predicting DataLoader 0: 100%|██████████| 1/1 [00:00<00:00, 63.13it/s]"
     ]
    },
    {
     "name": "stderr",
     "output_type": "stream",
     "text": [
      "Seed set to 42\n"
     ]
    },
    {
     "name": "stdout",
     "output_type": "stream",
     "text": [
      "\n",
      "Processando: Híbrido (MIMO)\n"
     ]
    },
    {
     "name": "stderr",
     "output_type": "stream",
     "text": [
      "GPU available: False, used: False\n",
      "TPU available: False, using: 0 TPU cores\n",
      "HPU available: False, using: 0 HPUs\n",
      "\n",
      "  | Name         | Type          | Params | Mode \n",
      "-------------------------------------------------------\n",
      "0 | loss         | MAE           | 0      | train\n",
      "1 | padder_train | ConstantPad1d | 0      | train\n",
      "2 | scaler       | TemporalNorm  | 0      | train\n",
      "3 | blocks       | ModuleList    | 2.5 M  | train\n",
      "-------------------------------------------------------\n",
      "2.5 M     Trainable params\n",
      "2.4 K     Non-trainable params\n",
      "2.5 M     Total params\n",
      "9.918     Total estimated model params size (MB)\n",
      "31        Modules in train mode\n",
      "0         Modules in eval mode\n"
     ]
    },
    {
     "name": "stdout",
     "output_type": "stream",
     "text": [
      "Epoch 149: 100%|██████████| 1/1 [00:00<00:00,  3.84it/s, v_num=46, train_loss_step=0.0411, train_loss_epoch=0.0411]"
     ]
    },
    {
     "name": "stderr",
     "output_type": "stream",
     "text": [
      "`Trainer.fit` stopped: `max_steps=150` reached.\n"
     ]
    },
    {
     "name": "stdout",
     "output_type": "stream",
     "text": [
      "Epoch 149: 100%|██████████| 1/1 [00:00<00:00,  3.73it/s, v_num=46, train_loss_step=0.0411, train_loss_epoch=0.0411]"
     ]
    },
    {
     "name": "stderr",
     "output_type": "stream",
     "text": [
      "GPU available: False, used: False\n",
      "TPU available: False, using: 0 TPU cores\n",
      "HPU available: False, using: 0 HPUs\n"
     ]
    },
    {
     "name": "stdout",
     "output_type": "stream",
     "text": [
      "\n",
      "Predicting DataLoader 0: 100%|██████████| 1/1 [00:00<00:00, 56.67it/s]\n"
     ]
    },
    {
     "name": "stderr",
     "output_type": "stream",
     "text": [
      "Processando Datasets: 100%|██████████| 2/2 [1:02:45<00:00, 1882.70s/it]\n"
     ]
    }
   ],
   "source": [
    "for dataset in tqdm(LISTA_DE_DATASETS, desc=\"Processando Datasets\"):\n",
    "    for horizonte in tqdm(VETOR_DE_HORIZONTES, desc=f\"Testando Horizontes para {dataset}\", leave=False):\n",
    "        df_resultado_detalhado = executar_experimento(dataset, horizonte)\n",
    "        if df_resultado_detalhado is not None:\n",
    "            resultados_gerais.append(df_resultado_detalhado)"
   ]
  },
  {
   "cell_type": "code",
   "execution_count": 15,
   "id": "55c51cbb",
   "metadata": {},
   "outputs": [
    {
     "name": "stdout",
     "output_type": "stream",
     "text": [
      "\n",
      "Arquivo './data/silver\\resultados_completos.csv' salvo com sucesso!\n"
     ]
    }
   ],
   "source": [
    "if resultados_gerais:\n",
    "    df_final = pd.concat(resultados_gerais)\n",
    "    df_final.to_csv(output_file, index=False)\n",
    "    print(f\"\\nArquivo '{output_file}' salvo com sucesso!\")"
   ]
  },
  {
   "cell_type": "code",
   "execution_count": 16,
   "id": "a1e21be3",
   "metadata": {},
   "outputs": [],
   "source": [
    "# =========================================================\n",
    "# SEÇÃO 7: GERAÇÃO DE RELATÓRIOS A PARTIR DOS ARQUIVOS SALVOS\n",
    "# ========================================================="
   ]
  },
  {
   "cell_type": "code",
   "execution_count": 44,
   "id": "f5a1d5c7",
   "metadata": {},
   "outputs": [
    {
     "name": "stdout",
     "output_type": "stream",
     "text": [
      "\n",
      "\n",
      "============================================================\n",
      "     GERANDO SUÍTE COMPLETA DE RELATÓRIOS\n",
      "============================================================\n",
      "Buscando dados de 'AirPassengers' via statsmodels...\n",
      "-> Cópia do dataset 'AirPassengers' salva em: ./data/bronze\\airpassengers.csv\n",
      "Buscando dados de 'co2' via statsmodels...\n",
      "-> Cópia do dataset 'co2' salva em: ./data/bronze\\co2.csv\n",
      "\n",
      "--- RELATÓRIO 1: EVOLUÇÃO DO ERRO (RMSE) POR HORIZONTE ---\n"
     ]
    },
    {
     "data": {
      "image/png": "[encoded data removed]",
      "text/plain": [
       "<Figure size 1400x700 with 1 Axes>"
      ]
     },
     "metadata": {},
     "output_type": "display_data"
    },
    {
     "name": "stdout",
     "output_type": "stream",
     "text": [
      "\n",
      "--- RELATÓRIO 2: DESEMPENHO GERAL (MÉDIA EM TODOS CENÁRIOS) ---\n"
     ]
    },
    {
     "data": {
      "text/html": [
       "<style type=\"text/css\">\n",
       "#T_7fbd6_row5_col0, #T_7fbd6_row5_col1, #T_7fbd6_row5_col2 {\n",
       "  background-color: #4285F4;\n",
       "  color: white;\n",
       "}\n",
       "</style>\n",
       "<table id=\"T_7fbd6\">\n",
       "  <thead>\n",
       "    <tr>\n",
       "      <th class=\"blank level0\" >&nbsp;</th>\n",
       "      <th id=\"T_7fbd6_level0_col0\" class=\"col_heading level0 col0\" >Mean RMSE</th>\n",
       "      <th id=\"T_7fbd6_level0_col1\" class=\"col_heading level0 col1\" >Mean MAPE(%)</th>\n",
       "      <th id=\"T_7fbd6_level0_col2\" class=\"col_heading level0 col2\" >Mean MASE</th>\n",
       "    </tr>\n",
       "    <tr>\n",
       "      <th class=\"index_name level0\" >Modelo</th>\n",
       "      <th class=\"blank col0\" >&nbsp;</th>\n",
       "      <th class=\"blank col1\" >&nbsp;</th>\n",
       "      <th class=\"blank col2\" >&nbsp;</th>\n",
       "    </tr>\n",
       "  </thead>\n",
       "  <tbody>\n",
       "    <tr>\n",
       "      <th id=\"T_7fbd6_level0_row0\" class=\"row_heading level0 row0\" >ARIMA</th>\n",
       "      <td id=\"T_7fbd6_row0_col0\" class=\"data row0 col0\" >17.583</td>\n",
       "      <td id=\"T_7fbd6_row0_col1\" class=\"data row0 col1\" >3.302</td>\n",
       "      <td id=\"T_7fbd6_row0_col2\" class=\"data row0 col2\" >0.855</td>\n",
       "    </tr>\n",
       "    <tr>\n",
       "      <th id=\"T_7fbd6_level0_row1\" class=\"row_heading level0 row1\" >Autoformer</th>\n",
       "      <td id=\"T_7fbd6_row1_col0\" class=\"data row1 col0\" >19.465</td>\n",
       "      <td id=\"T_7fbd6_row1_col1\" class=\"data row1 col1\" >3.228</td>\n",
       "      <td id=\"T_7fbd6_row1_col2\" class=\"data row1 col2\" >1.008</td>\n",
       "    </tr>\n",
       "    <tr>\n",
       "      <th id=\"T_7fbd6_level0_row2\" class=\"row_heading level0 row2\" >Híbrido (MIMO)</th>\n",
       "      <td id=\"T_7fbd6_row2_col0\" class=\"data row2 col0\" >17.587</td>\n",
       "      <td id=\"T_7fbd6_row2_col1\" class=\"data row2 col1\" >3.304</td>\n",
       "      <td id=\"T_7fbd6_row2_col2\" class=\"data row2 col2\" >0.855</td>\n",
       "    </tr>\n",
       "    <tr>\n",
       "      <th id=\"T_7fbd6_level0_row3\" class=\"row_heading level0 row3\" >LSTM</th>\n",
       "      <td id=\"T_7fbd6_row3_col0\" class=\"data row3 col0\" >54.259</td>\n",
       "      <td id=\"T_7fbd6_row3_col1\" class=\"data row3 col1\" >8.353</td>\n",
       "      <td id=\"T_7fbd6_row3_col2\" class=\"data row3 col2\" >4.928</td>\n",
       "    </tr>\n",
       "    <tr>\n",
       "      <th id=\"T_7fbd6_level0_row4\" class=\"row_heading level0 row4\" >MLP</th>\n",
       "      <td id=\"T_7fbd6_row4_col0\" class=\"data row4 col0\" >10.337</td>\n",
       "      <td id=\"T_7fbd6_row4_col1\" class=\"data row4 col1\" >1.910</td>\n",
       "      <td id=\"T_7fbd6_row4_col2\" class=\"data row4 col2\" >0.544</td>\n",
       "    </tr>\n",
       "    <tr>\n",
       "      <th id=\"T_7fbd6_level0_row5\" class=\"row_heading level0 row5\" >N-BEATS</th>\n",
       "      <td id=\"T_7fbd6_row5_col0\" class=\"data row5 col0\" >8.765</td>\n",
       "      <td id=\"T_7fbd6_row5_col1\" class=\"data row5 col1\" >1.574</td>\n",
       "      <td id=\"T_7fbd6_row5_col2\" class=\"data row5 col2\" >0.476</td>\n",
       "    </tr>\n",
       "    <tr>\n",
       "      <th id=\"T_7fbd6_level0_row6\" class=\"row_heading level0 row6\" >NHITS</th>\n",
       "      <td id=\"T_7fbd6_row6_col0\" class=\"data row6 col0\" >10.707</td>\n",
       "      <td id=\"T_7fbd6_row6_col1\" class=\"data row6 col1\" >1.887</td>\n",
       "      <td id=\"T_7fbd6_row6_col2\" class=\"data row6 col2\" >0.577</td>\n",
       "    </tr>\n",
       "  </tbody>\n",
       "</table>\n"
      ],
      "text/plain": [
       "<pandas.io.formats.style.Styler at 0x1d5c8491510>"
      ]
     },
     "metadata": {},
     "output_type": "display_data"
    },
    {
     "name": "stdout",
     "output_type": "stream",
     "text": [
      "\n",
      "--- RELATÓRIO 3: DESEMPENHO DETALHADO (HORIZONTE MAIS LONGO: 24) ---\n"
     ]
    },
    {
     "data": {
      "text/html": [
       "<style type=\"text/css\">\n",
       "</style>\n",
       "<table id=\"T_e6204\">\n",
       "  <thead>\n",
       "    <tr>\n",
       "      <th class=\"blank level0\" >&nbsp;</th>\n",
       "      <th id=\"T_e6204_level0_col0\" class=\"col_heading level0 col0\" colspan=\"7\">Mean MAPE(%)</th>\n",
       "      <th id=\"T_e6204_level0_col7\" class=\"col_heading level0 col7\" colspan=\"7\">Mean MASE</th>\n",
       "      <th id=\"T_e6204_level0_col14\" class=\"col_heading level0 col14\" colspan=\"7\">Mean RMSE</th>\n",
       "    </tr>\n",
       "    <tr>\n",
       "      <th class=\"index_name level1\" >Modelo</th>\n",
       "      <th id=\"T_e6204_level1_col0\" class=\"col_heading level1 col0\" >ARIMA</th>\n",
       "      <th id=\"T_e6204_level1_col1\" class=\"col_heading level1 col1\" >Autoformer</th>\n",
       "      <th id=\"T_e6204_level1_col2\" class=\"col_heading level1 col2\" >Híbrido (MIMO)</th>\n",
       "      <th id=\"T_e6204_level1_col3\" class=\"col_heading level1 col3\" >LSTM</th>\n",
       "      <th id=\"T_e6204_level1_col4\" class=\"col_heading level1 col4\" >MLP</th>\n",
       "      <th id=\"T_e6204_level1_col5\" class=\"col_heading level1 col5\" >N-BEATS</th>\n",
       "      <th id=\"T_e6204_level1_col6\" class=\"col_heading level1 col6\" >NHITS</th>\n",
       "      <th id=\"T_e6204_level1_col7\" class=\"col_heading level1 col7\" >ARIMA</th>\n",
       "      <th id=\"T_e6204_level1_col8\" class=\"col_heading level1 col8\" >Autoformer</th>\n",
       "      <th id=\"T_e6204_level1_col9\" class=\"col_heading level1 col9\" >Híbrido (MIMO)</th>\n",
       "      <th id=\"T_e6204_level1_col10\" class=\"col_heading level1 col10\" >LSTM</th>\n",
       "      <th id=\"T_e6204_level1_col11\" class=\"col_heading level1 col11\" >MLP</th>\n",
       "      <th id=\"T_e6204_level1_col12\" class=\"col_heading level1 col12\" >N-BEATS</th>\n",
       "      <th id=\"T_e6204_level1_col13\" class=\"col_heading level1 col13\" >NHITS</th>\n",
       "      <th id=\"T_e6204_level1_col14\" class=\"col_heading level1 col14\" >ARIMA</th>\n",
       "      <th id=\"T_e6204_level1_col15\" class=\"col_heading level1 col15\" >Autoformer</th>\n",
       "      <th id=\"T_e6204_level1_col16\" class=\"col_heading level1 col16\" >Híbrido (MIMO)</th>\n",
       "      <th id=\"T_e6204_level1_col17\" class=\"col_heading level1 col17\" >LSTM</th>\n",
       "      <th id=\"T_e6204_level1_col18\" class=\"col_heading level1 col18\" >MLP</th>\n",
       "      <th id=\"T_e6204_level1_col19\" class=\"col_heading level1 col19\" >N-BEATS</th>\n",
       "      <th id=\"T_e6204_level1_col20\" class=\"col_heading level1 col20\" >NHITS</th>\n",
       "    </tr>\n",
       "    <tr>\n",
       "      <th class=\"index_name level0\" >dataset</th>\n",
       "      <th class=\"blank col0\" >&nbsp;</th>\n",
       "      <th class=\"blank col1\" >&nbsp;</th>\n",
       "      <th class=\"blank col2\" >&nbsp;</th>\n",
       "      <th class=\"blank col3\" >&nbsp;</th>\n",
       "      <th class=\"blank col4\" >&nbsp;</th>\n",
       "      <th class=\"blank col5\" >&nbsp;</th>\n",
       "      <th class=\"blank col6\" >&nbsp;</th>\n",
       "      <th class=\"blank col7\" >&nbsp;</th>\n",
       "      <th class=\"blank col8\" >&nbsp;</th>\n",
       "      <th class=\"blank col9\" >&nbsp;</th>\n",
       "      <th class=\"blank col10\" >&nbsp;</th>\n",
       "      <th class=\"blank col11\" >&nbsp;</th>\n",
       "      <th class=\"blank col12\" >&nbsp;</th>\n",
       "      <th class=\"blank col13\" >&nbsp;</th>\n",
       "      <th class=\"blank col14\" >&nbsp;</th>\n",
       "      <th class=\"blank col15\" >&nbsp;</th>\n",
       "      <th class=\"blank col16\" >&nbsp;</th>\n",
       "      <th class=\"blank col17\" >&nbsp;</th>\n",
       "      <th class=\"blank col18\" >&nbsp;</th>\n",
       "      <th class=\"blank col19\" >&nbsp;</th>\n",
       "      <th class=\"blank col20\" >&nbsp;</th>\n",
       "    </tr>\n",
       "  </thead>\n",
       "  <tbody>\n",
       "    <tr>\n",
       "      <th id=\"T_e6204_level0_row0\" class=\"row_heading level0 row0\" >AirPassengers</th>\n",
       "      <td id=\"T_e6204_row0_col0\" class=\"data row0 col0\" >10.410</td>\n",
       "      <td id=\"T_e6204_row0_col1\" class=\"data row0 col1\" >7.917</td>\n",
       "      <td id=\"T_e6204_row0_col2\" class=\"data row0 col2\" >10.416</td>\n",
       "      <td id=\"T_e6204_row0_col3\" class=\"data row0 col3\" >16.031</td>\n",
       "      <td id=\"T_e6204_row0_col4\" class=\"data row0 col4\" >4.586</td>\n",
       "      <td id=\"T_e6204_row0_col5\" class=\"data row0 col5\" >3.517</td>\n",
       "      <td id=\"T_e6204_row0_col6\" class=\"data row0 col6\" >4.551</td>\n",
       "      <td id=\"T_e6204_row0_col7\" class=\"data row0 col7\" >2.180</td>\n",
       "      <td id=\"T_e6204_row0_col8\" class=\"data row0 col8\" >1.559</td>\n",
       "      <td id=\"T_e6204_row0_col9\" class=\"data row0 col9\" >2.181</td>\n",
       "      <td id=\"T_e6204_row0_col10\" class=\"data row0 col10\" >3.637</td>\n",
       "      <td id=\"T_e6204_row0_col11\" class=\"data row0 col11\" >0.906</td>\n",
       "      <td id=\"T_e6204_row0_col12\" class=\"data row0 col12\" >0.708</td>\n",
       "      <td id=\"T_e6204_row0_col13\" class=\"data row0 col13\" >0.918</td>\n",
       "      <td id=\"T_e6204_row0_col14\" class=\"data row0 col14\" >52.691</td>\n",
       "      <td id=\"T_e6204_row0_col15\" class=\"data row0 col15\" >49.677</td>\n",
       "      <td id=\"T_e6204_row0_col16\" class=\"data row0 col16\" >52.707</td>\n",
       "      <td id=\"T_e6204_row0_col17\" class=\"data row0 col17\" >105.512</td>\n",
       "      <td id=\"T_e6204_row0_col18\" class=\"data row0 col18\" >24.094</td>\n",
       "      <td id=\"T_e6204_row0_col19\" class=\"data row0 col19\" >19.042</td>\n",
       "      <td id=\"T_e6204_row0_col20\" class=\"data row0 col20\" >24.232</td>\n",
       "    </tr>\n",
       "    <tr>\n",
       "      <th id=\"T_e6204_level0_row1\" class=\"row_heading level0 row1\" >co2</th>\n",
       "      <td id=\"T_e6204_row1_col0\" class=\"data row1 col0\" >0.080</td>\n",
       "      <td id=\"T_e6204_row1_col1\" class=\"data row1 col1\" >0.282</td>\n",
       "      <td id=\"T_e6204_row1_col2\" class=\"data row1 col2\" >0.080</td>\n",
       "      <td id=\"T_e6204_row1_col3\" class=\"data row1 col3\" >3.032</td>\n",
       "      <td id=\"T_e6204_row1_col4\" class=\"data row1 col4\" >0.104</td>\n",
       "      <td id=\"T_e6204_row1_col5\" class=\"data row1 col5\" >0.085</td>\n",
       "      <td id=\"T_e6204_row1_col6\" class=\"data row1 col6\" >0.097</td>\n",
       "      <td id=\"T_e6204_row1_col7\" class=\"data row1 col7\" >0.276</td>\n",
       "      <td id=\"T_e6204_row1_col8\" class=\"data row1 col8\" >0.968</td>\n",
       "      <td id=\"T_e6204_row1_col9\" class=\"data row1 col9\" >0.276</td>\n",
       "      <td id=\"T_e6204_row1_col10\" class=\"data row1 col10\" >10.420</td>\n",
       "      <td id=\"T_e6204_row1_col11\" class=\"data row1 col11\" >0.358</td>\n",
       "      <td id=\"T_e6204_row1_col12\" class=\"data row1 col12\" >0.291</td>\n",
       "      <td id=\"T_e6204_row1_col13\" class=\"data row1 col13\" >0.334</td>\n",
       "      <td id=\"T_e6204_row1_col14\" class=\"data row1 col14\" >0.367</td>\n",
       "      <td id=\"T_e6204_row1_col15\" class=\"data row1 col15\" >1.299</td>\n",
       "      <td id=\"T_e6204_row1_col16\" class=\"data row1 col16\" >0.367</td>\n",
       "      <td id=\"T_e6204_row1_col17\" class=\"data row1 col17\" >11.324</td>\n",
       "      <td id=\"T_e6204_row1_col18\" class=\"data row1 col18\" >0.450</td>\n",
       "      <td id=\"T_e6204_row1_col19\" class=\"data row1 col19\" >0.365</td>\n",
       "      <td id=\"T_e6204_row1_col20\" class=\"data row1 col20\" >0.415</td>\n",
       "    </tr>\n",
       "  </tbody>\n",
       "</table>\n"
      ],
      "text/plain": [
       "<pandas.io.formats.style.Styler at 0x1d5c919a590>"
      ]
     },
     "metadata": {},
     "output_type": "display_data"
    },
    {
     "name": "stdout",
     "output_type": "stream",
     "text": [
      "\n",
      "--- RELATÓRIO 4: RANKING DOS MODELOS (BASEADO EM RMSE, HORIZONTE 24) ---\n"
     ]
    },
    {
     "data": {
      "text/html": [
       "<style type=\"text/css\">\n",
       "#T_8da89_row0_col5, #T_8da89_row1_col5, #T_8da89_row2_col5 {\n",
       "  background-color: #4285F4;\n",
       "  color: white;\n",
       "}\n",
       "</style>\n",
       "<table id=\"T_8da89\">\n",
       "  <thead>\n",
       "    <tr>\n",
       "      <th class=\"index_name level0\" >Modelo</th>\n",
       "      <th id=\"T_8da89_level0_col0\" class=\"col_heading level0 col0\" >ARIMA</th>\n",
       "      <th id=\"T_8da89_level0_col1\" class=\"col_heading level0 col1\" >Autoformer</th>\n",
       "      <th id=\"T_8da89_level0_col2\" class=\"col_heading level0 col2\" >Híbrido (MIMO)</th>\n",
       "      <th id=\"T_8da89_level0_col3\" class=\"col_heading level0 col3\" >LSTM</th>\n",
       "      <th id=\"T_8da89_level0_col4\" class=\"col_heading level0 col4\" >MLP</th>\n",
       "      <th id=\"T_8da89_level0_col5\" class=\"col_heading level0 col5\" >N-BEATS</th>\n",
       "      <th id=\"T_8da89_level0_col6\" class=\"col_heading level0 col6\" >NHITS</th>\n",
       "    </tr>\n",
       "    <tr>\n",
       "      <th class=\"index_name level0\" >dataset</th>\n",
       "      <th class=\"blank col0\" >&nbsp;</th>\n",
       "      <th class=\"blank col1\" >&nbsp;</th>\n",
       "      <th class=\"blank col2\" >&nbsp;</th>\n",
       "      <th class=\"blank col3\" >&nbsp;</th>\n",
       "      <th class=\"blank col4\" >&nbsp;</th>\n",
       "      <th class=\"blank col5\" >&nbsp;</th>\n",
       "      <th class=\"blank col6\" >&nbsp;</th>\n",
       "    </tr>\n",
       "  </thead>\n",
       "  <tbody>\n",
       "    <tr>\n",
       "      <th id=\"T_8da89_level0_row0\" class=\"row_heading level0 row0\" >AirPassengers</th>\n",
       "      <td id=\"T_8da89_row0_col0\" class=\"data row0 col0\" >5.0</td>\n",
       "      <td id=\"T_8da89_row0_col1\" class=\"data row0 col1\" >4.0</td>\n",
       "      <td id=\"T_8da89_row0_col2\" class=\"data row0 col2\" >6.0</td>\n",
       "      <td id=\"T_8da89_row0_col3\" class=\"data row0 col3\" >7.0</td>\n",
       "      <td id=\"T_8da89_row0_col4\" class=\"data row0 col4\" >2.0</td>\n",
       "      <td id=\"T_8da89_row0_col5\" class=\"data row0 col5\" >1.0</td>\n",
       "      <td id=\"T_8da89_row0_col6\" class=\"data row0 col6\" >3.0</td>\n",
       "    </tr>\n",
       "    <tr>\n",
       "      <th id=\"T_8da89_level0_row1\" class=\"row_heading level0 row1\" >co2</th>\n",
       "      <td id=\"T_8da89_row1_col0\" class=\"data row1 col0\" >2.0</td>\n",
       "      <td id=\"T_8da89_row1_col1\" class=\"data row1 col1\" >6.0</td>\n",
       "      <td id=\"T_8da89_row1_col2\" class=\"data row1 col2\" >3.0</td>\n",
       "      <td id=\"T_8da89_row1_col3\" class=\"data row1 col3\" >7.0</td>\n",
       "      <td id=\"T_8da89_row1_col4\" class=\"data row1 col4\" >5.0</td>\n",
       "      <td id=\"T_8da89_row1_col5\" class=\"data row1 col5\" >1.0</td>\n",
       "      <td id=\"T_8da89_row1_col6\" class=\"data row1 col6\" >4.0</td>\n",
       "    </tr>\n",
       "    <tr>\n",
       "      <th id=\"T_8da89_level0_row2\" class=\"row_heading level0 row2\" >Média do Rank</th>\n",
       "      <td id=\"T_8da89_row2_col0\" class=\"data row2 col0\" >3.5</td>\n",
       "      <td id=\"T_8da89_row2_col1\" class=\"data row2 col1\" >5.0</td>\n",
       "      <td id=\"T_8da89_row2_col2\" class=\"data row2 col2\" >4.5</td>\n",
       "      <td id=\"T_8da89_row2_col3\" class=\"data row2 col3\" >7.0</td>\n",
       "      <td id=\"T_8da89_row2_col4\" class=\"data row2 col4\" >3.5</td>\n",
       "      <td id=\"T_8da89_row2_col5\" class=\"data row2 col5\" >1.0</td>\n",
       "      <td id=\"T_8da89_row2_col6\" class=\"data row2 col6\" >3.5</td>\n",
       "    </tr>\n",
       "  </tbody>\n",
       "</table>\n"
      ],
      "text/plain": [
       "<pandas.io.formats.style.Styler at 0x1d649046770>"
      ]
     },
     "metadata": {},
     "output_type": "display_data"
    },
    {
     "name": "stdout",
     "output_type": "stream",
     "text": [
      "\n",
      "--- RELATÓRIO 5: TESTE DE HIPÓTESE (p-valor, HORIZONTE MAIS LONGO) ---\n"
     ]
    },
    {
     "data": {
      "text/html": [
       "<style type=\"text/css\">\n",
       "#T_48f43_row0_col0, #T_48f43_row0_col1, #T_48f43_row0_col2, #T_48f43_row0_col3, #T_48f43_row0_col5, #T_48f43_row1_col3, #T_48f43_row1_col4 {\n",
       "  background-color: blue;\n",
       "  font-weight: bold;\n",
       "}\n",
       "</style>\n",
       "<table id=\"T_48f43\">\n",
       "  <thead>\n",
       "    <tr>\n",
       "      <th class=\"blank level0\" >&nbsp;</th>\n",
       "      <th id=\"T_48f43_level0_col0\" class=\"col_heading level0 col0\" >ARIMA</th>\n",
       "      <th id=\"T_48f43_level0_col1\" class=\"col_heading level0 col1\" >N-BEATS</th>\n",
       "      <th id=\"T_48f43_level0_col2\" class=\"col_heading level0 col2\" >MLP</th>\n",
       "      <th id=\"T_48f43_level0_col3\" class=\"col_heading level0 col3\" >LSTM</th>\n",
       "      <th id=\"T_48f43_level0_col4\" class=\"col_heading level0 col4\" >Autoformer</th>\n",
       "      <th id=\"T_48f43_level0_col5\" class=\"col_heading level0 col5\" >NHITS</th>\n",
       "    </tr>\n",
       "    <tr>\n",
       "      <th class=\"index_name level0\" >dataset</th>\n",
       "      <th class=\"blank col0\" >&nbsp;</th>\n",
       "      <th class=\"blank col1\" >&nbsp;</th>\n",
       "      <th class=\"blank col2\" >&nbsp;</th>\n",
       "      <th class=\"blank col3\" >&nbsp;</th>\n",
       "      <th class=\"blank col4\" >&nbsp;</th>\n",
       "      <th class=\"blank col5\" >&nbsp;</th>\n",
       "    </tr>\n",
       "  </thead>\n",
       "  <tbody>\n",
       "    <tr>\n",
       "      <th id=\"T_48f43_level0_row0\" class=\"row_heading level0 row0\" >AirPassengers</th>\n",
       "      <td id=\"T_48f43_row0_col0\" class=\"data row0 col0\" >0.003</td>\n",
       "      <td id=\"T_48f43_row0_col1\" class=\"data row0 col1\" >0.000</td>\n",
       "      <td id=\"T_48f43_row0_col2\" class=\"data row0 col2\" >0.000</td>\n",
       "      <td id=\"T_48f43_row0_col3\" class=\"data row0 col3\" >0.013</td>\n",
       "      <td id=\"T_48f43_row0_col4\" class=\"data row0 col4\" >0.765</td>\n",
       "      <td id=\"T_48f43_row0_col5\" class=\"data row0 col5\" >0.000</td>\n",
       "    </tr>\n",
       "    <tr>\n",
       "      <th id=\"T_48f43_level0_row1\" class=\"row_heading level0 row1\" >co2</th>\n",
       "      <td id=\"T_48f43_row1_col0\" class=\"data row1 col0\" >0.153</td>\n",
       "      <td id=\"T_48f43_row1_col1\" class=\"data row1 col1\" >0.974</td>\n",
       "      <td id=\"T_48f43_row1_col2\" class=\"data row1 col2\" >0.286</td>\n",
       "      <td id=\"T_48f43_row1_col3\" class=\"data row1 col3\" >0.000</td>\n",
       "      <td id=\"T_48f43_row1_col4\" class=\"data row1 col4\" >0.006</td>\n",
       "      <td id=\"T_48f43_row1_col5\" class=\"data row1 col5\" >0.502</td>\n",
       "    </tr>\n",
       "  </tbody>\n",
       "</table>\n"
      ],
      "text/plain": [
       "<pandas.io.formats.style.Styler at 0x1d617017a60>"
      ]
     },
     "metadata": {},
     "output_type": "display_data"
    }
   ],
   "source": [
    "print(\"\\n\\n\" + \"=\"*60); print(\"     GERANDO SUÍTE COMPLETA DE RELATÓRIOS\"); print(\"=\"*60)\n",
    "try:\n",
    "    df_results = pd.read_csv(output_file)\n",
    "    modelos = [col for col in df_results.columns if col not in ['ds', 'y_true', 'dataset', 'horizonte']]\n",
    "    \n",
    "    y_train_dict = {dataset: dividir_serie_temporal(carregar_serie(dataset))[0].values for dataset in df_results['dataset'].unique()}\n",
    "    \n",
    "    df_melted = df_results.melt(id_vars=['ds', 'y_true', 'dataset', 'horizonte'], value_vars=modelos, var_name='Modelo', value_name='y_pred')\n",
    "    \n",
    "    metricas_gerais = []\n",
    "    for (dataset, horizonte, modelo), group in df_melted.groupby(['dataset', 'horizonte', 'Modelo']):\n",
    "        if not group['y_pred'].isnull().all():\n",
    "            metricas = calcular_metricas(group['y_true'], group['y_pred'], y_train_dict[dataset])\n",
    "            metricas['dataset'], metricas['horizonte'], metricas['Modelo'] = dataset, horizonte, modelo\n",
    "            metricas_gerais.append(metricas)\n",
    "    \n",
    "    df_metricas_final = pd.DataFrame(metricas_gerais)\n",
    "    rename_dict = {'RMSE': 'Mean RMSE', 'MAPE(%)': 'Mean MAPE(%)', 'MASE': 'Mean MASE'}\n",
    "    df_metricas_final.rename(columns=rename_dict, inplace=True)\n",
    "\n",
    "    # --- Relatório 1: Evolução do Erro por Horizonte ---\n",
    "    print(\"\\n--- RELATÓRIO 1: EVOLUÇÃO DO ERRO (RMSE) POR HORIZONTE ---\")\n",
    "    plt.figure(figsize=(14, 7)); sns.lineplot(data=df_metricas_final, x='horizonte', y='Mean RMSE', hue='Modelo', style='Modelo', markers=True); plt.title(\"Evolução do Erro (RMSE)\"); plt.grid(True); plt.xticks(VETOR_DE_HORIZONTES); plt.show()\n",
    "\n",
    "    # --- Relatório 2: Desempenho Geral Agregado ---\n",
    "    print(\"\\n--- RELATÓRIO 2: DESEMPENHO GERAL (MÉDIA EM TODOS CENÁRIOS) ---\")\n",
    "    df_agrupado = df_metricas_final.groupby('Modelo')[['Mean RMSE', 'Mean MAPE(%)', 'Mean MASE']].mean()\n",
    "    display(df_agrupado.style.format('{:.3f}').highlight_min(axis=0, props='background-color: #4285F4; color: white;'))\n",
    "\n",
    "    # --- Relatório 3: Desempenho Detalhado (foco no maior horizonte) ---\n",
    "    maior_horizonte = df_metricas_final['horizonte'].max()\n",
    "    print(f\"\\n--- RELATÓRIO 3: DESEMPENHO DETALHADO (HORIZONTE MAIS LONGO: {int(maior_horizonte)}) ---\")\n",
    "    df_detalhado = df_metricas_final[df_metricas_final['horizonte'] == maior_horizonte].pivot_table(index='dataset', columns='Modelo', values=['Mean RMSE', 'Mean MAPE(%)', 'Mean MASE'])\n",
    "    display(df_detalhado.style.format('{:.3f}'))\n",
    "\n",
    "    # --- Relatório 4: Ranking (foco no maior horizonte) ---\n",
    "    print(f\"\\n--- RELATÓRIO 4: RANKING DOS MODELOS (BASEADO EM RMSE, HORIZONTE {int(maior_horizonte)}) ---\")\n",
    "    df_rank = df_metricas_final[df_metricas_final['horizonte'] == maior_horizonte]\n",
    "    df_rank['Rank'] = df_rank.groupby('dataset')['Mean RMSE'].rank().astype(int)\n",
    "    df_pivot_rank = df_rank.pivot_table(index='dataset', columns='Modelo', values='Rank')\n",
    "    if len(df_pivot_rank) > 1: df_pivot_rank.loc['Média do Rank'] = df_pivot_rank.mean(axis=0)\n",
    "    display(df_pivot_rank.style.format('{:.1f}').highlight_min(axis=1, props='background-color: #4285F4; color: white;'))\n",
    "    \n",
    "    # --- Relatório 5: Teste de Hipótese Diebold-Mariano ---\n",
    "    print(f\"\\n--- RELATÓRIO 5: TESTE DE HIPÓTESE (p-valor, HORIZONTE MAIS LONGO) ---\")\n",
    "    modelo_referencia = 'Híbrido (MIMO)'\n",
    "    maior_horizonte = df_results['horizonte'].max()\n",
    "    df_teste_maior_h = df_results[df_results['horizonte'] == maior_horizonte]\n",
    "    \n",
    "    dm_results = []\n",
    "    for dataset_nome, group in df_teste_maior_h.groupby('dataset'):\n",
    "        if modelo_referencia in group.columns and not group[modelo_referencia].isnull().all():\n",
    "            row = {'dataset': dataset_nome}\n",
    "            y_true_reais = group['y_true'].dropna()\n",
    "            \n",
    "            for modelo_competidor in [m for m in modelos if m != modelo_referencia and m in group.columns and not group[m].isnull().all()]:\n",
    "                temp_df = pd.concat([y_true_reais, group[modelo_referencia], group[modelo_competidor]], axis=1, keys=['y_true', 'ref', 'comp']).dropna()\n",
    "                \n",
    "                if not temp_df.empty and len(temp_df) > 1:\n",
    "                    try:\n",
    "                        # --- CORREÇÃO DEFINITIVA APLICADA AQUI ---\n",
    "                        # Removemos TODOS os argumentos extras. A chamada mais simples possível.\n",
    "                        dm_stat, p_value = dm_test(temp_df['y_true'], temp_df['ref'], temp_df['comp'])\n",
    "                        row[modelo_competidor] = p_value\n",
    "                    except Exception as e:\n",
    "                        row[modelo_competidor] = np.nan\n",
    "                else:\n",
    "                    row[modelo_competidor] = np.nan\n",
    "            dm_results.append(row)\n",
    "\n",
    "    if dm_results:\n",
    "        df_dm = pd.DataFrame(dm_results).set_index('dataset')\n",
    "        display(df_dm.style.format('{:.3f}').applymap(lambda x: 'background-color: blue; font-weight: bold;' if pd.notna(x) and x < 0.05 else ''))\n",
    "    else:\n",
    "        print(\"Não foi possível gerar o relatório do teste Diebold-Mariano.\")\n",
    "\n",
    "except FileNotFoundError:\n",
    "    print(f\"\\nERRO: Arquivo '{output_file}' não encontrado.\")\n",
    "except Exception as e:\n",
    "    print(f\"Ocorreu um erro ao gerar os relatórios: {e}\")"
   ]
  }
 ],
 "metadata": {
  "kernelspec": {
   "display_name": "hybrid",
   "language": "python",
   "name": "python3"
  },
  "language_info": {
   "codemirror_mode": {
    "name": "ipython",
    "version": 3
   },
   "file_extension": ".py",
   "mimetype": "text/x-python",
   "name": "python",
   "nbconvert_exporter": "python",
   "pygments_lexer": "ipython3",
   "version": "3.10.11"
  }
 },
 "nbformat": 4,
 "nbformat_minor": 5
}
